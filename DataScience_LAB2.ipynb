{
  "nbformat": 4,
  "nbformat_minor": 0,
  "metadata": {
    "colab": {
      "provenance": [],
      "authorship_tag": "ABX9TyO4+HoylcZKNOdkE7urB6Yx",
      "include_colab_link": true
    },
    "kernelspec": {
      "name": "python3",
      "display_name": "Python 3"
    },
    "language_info": {
      "name": "python"
    }
  },
  "cells": [
    {
      "cell_type": "markdown",
      "metadata": {
        "id": "view-in-github",
        "colab_type": "text"
      },
      "source": [
        "<a href=\"https://colab.research.google.com/github/Khushkataruka/Data-Science-SVNIT/blob/main/DataScience_LAB2.ipynb\" target=\"_parent\"><img src=\"https://colab.research.google.com/assets/colab-badge.svg\" alt=\"Open In Colab\"/></a>"
      ]
    },
    {
      "cell_type": "code",
      "execution_count": null,
      "metadata": {
        "id": "PYSN-Kf7GFU2"
      },
      "outputs": [],
      "source": [
        "import pandas as pd\n",
        "import numpy as np"
      ]
    },
    {
      "cell_type": "code",
      "source": [
        "df=pd.read_csv('yellow_tripdata_sample.csv')"
      ],
      "metadata": {
        "id": "iKuEraYFGO29"
      },
      "execution_count": null,
      "outputs": []
    },
    {
      "cell_type": "code",
      "source": [
        "df.head()"
      ],
      "metadata": {
        "colab": {
          "base_uri": "https://localhost:8080/",
          "height": 226
        },
        "id": "IA-JhJZAHj0t",
        "outputId": "0498e948-24f8-4c0f-a42e-6f9241e4c0dc"
      },
      "execution_count": null,
      "outputs": [
        {
          "output_type": "execute_result",
          "data": {
            "text/plain": [
              "   VendorID tpep_pickup_datetime tpep_dropoff_datetime  passenger_count  \\\n",
              "0         2  2024-01-01 00:57:55   2024-01-01 01:17:43              1.0   \n",
              "1         1  2024-01-01 00:03:00   2024-01-01 00:09:36              1.0   \n",
              "2         1  2024-01-01 00:17:06   2024-01-01 00:35:01              1.0   \n",
              "3         1  2024-01-01 00:36:38   2024-01-01 00:44:56              1.0   \n",
              "4         1  2024-01-01 00:46:51   2024-01-01 00:52:57              1.0   \n",
              "\n",
              "   trip_distance  RatecodeID store_and_fwd_flag  PULocationID  DOLocationID  \\\n",
              "0           1.72         1.0                  N           186            79   \n",
              "1           1.80         1.0                  N           140           236   \n",
              "2           4.70         1.0                  N           236            79   \n",
              "3           1.40         1.0                  N            79           211   \n",
              "4           0.80         1.0                  N           211           148   \n",
              "\n",
              "   payment_type  fare_amount  extra  mta_tax  tip_amount  tolls_amount  \\\n",
              "0             2         17.7    1.0      0.5        0.00           0.0   \n",
              "1             1         10.0    3.5      0.5        3.75           0.0   \n",
              "2             1         23.3    3.5      0.5        3.00           0.0   \n",
              "3             1         10.0    3.5      0.5        2.00           0.0   \n",
              "4             1          7.9    3.5      0.5        3.20           0.0   \n",
              "\n",
              "   improvement_surcharge  total_amount  congestion_surcharge  Airport_fee  \n",
              "0                    1.0         22.70                   2.5          0.0  \n",
              "1                    1.0         18.75                   2.5          0.0  \n",
              "2                    1.0         31.30                   2.5          0.0  \n",
              "3                    1.0         17.00                   2.5          0.0  \n",
              "4                    1.0         16.10                   2.5          0.0  "
            ],
            "text/html": [
              "\n",
              "  <div id=\"df-6dabdcf9-0c3f-44ce-8e81-973838ea1db8\" class=\"colab-df-container\">\n",
              "    <div>\n",
              "<style scoped>\n",
              "    .dataframe tbody tr th:only-of-type {\n",
              "        vertical-align: middle;\n",
              "    }\n",
              "\n",
              "    .dataframe tbody tr th {\n",
              "        vertical-align: top;\n",
              "    }\n",
              "\n",
              "    .dataframe thead th {\n",
              "        text-align: right;\n",
              "    }\n",
              "</style>\n",
              "<table border=\"1\" class=\"dataframe\">\n",
              "  <thead>\n",
              "    <tr style=\"text-align: right;\">\n",
              "      <th></th>\n",
              "      <th>VendorID</th>\n",
              "      <th>tpep_pickup_datetime</th>\n",
              "      <th>tpep_dropoff_datetime</th>\n",
              "      <th>passenger_count</th>\n",
              "      <th>trip_distance</th>\n",
              "      <th>RatecodeID</th>\n",
              "      <th>store_and_fwd_flag</th>\n",
              "      <th>PULocationID</th>\n",
              "      <th>DOLocationID</th>\n",
              "      <th>payment_type</th>\n",
              "      <th>fare_amount</th>\n",
              "      <th>extra</th>\n",
              "      <th>mta_tax</th>\n",
              "      <th>tip_amount</th>\n",
              "      <th>tolls_amount</th>\n",
              "      <th>improvement_surcharge</th>\n",
              "      <th>total_amount</th>\n",
              "      <th>congestion_surcharge</th>\n",
              "      <th>Airport_fee</th>\n",
              "    </tr>\n",
              "  </thead>\n",
              "  <tbody>\n",
              "    <tr>\n",
              "      <th>0</th>\n",
              "      <td>2</td>\n",
              "      <td>2024-01-01 00:57:55</td>\n",
              "      <td>2024-01-01 01:17:43</td>\n",
              "      <td>1.0</td>\n",
              "      <td>1.72</td>\n",
              "      <td>1.0</td>\n",
              "      <td>N</td>\n",
              "      <td>186</td>\n",
              "      <td>79</td>\n",
              "      <td>2</td>\n",
              "      <td>17.7</td>\n",
              "      <td>1.0</td>\n",
              "      <td>0.5</td>\n",
              "      <td>0.00</td>\n",
              "      <td>0.0</td>\n",
              "      <td>1.0</td>\n",
              "      <td>22.70</td>\n",
              "      <td>2.5</td>\n",
              "      <td>0.0</td>\n",
              "    </tr>\n",
              "    <tr>\n",
              "      <th>1</th>\n",
              "      <td>1</td>\n",
              "      <td>2024-01-01 00:03:00</td>\n",
              "      <td>2024-01-01 00:09:36</td>\n",
              "      <td>1.0</td>\n",
              "      <td>1.80</td>\n",
              "      <td>1.0</td>\n",
              "      <td>N</td>\n",
              "      <td>140</td>\n",
              "      <td>236</td>\n",
              "      <td>1</td>\n",
              "      <td>10.0</td>\n",
              "      <td>3.5</td>\n",
              "      <td>0.5</td>\n",
              "      <td>3.75</td>\n",
              "      <td>0.0</td>\n",
              "      <td>1.0</td>\n",
              "      <td>18.75</td>\n",
              "      <td>2.5</td>\n",
              "      <td>0.0</td>\n",
              "    </tr>\n",
              "    <tr>\n",
              "      <th>2</th>\n",
              "      <td>1</td>\n",
              "      <td>2024-01-01 00:17:06</td>\n",
              "      <td>2024-01-01 00:35:01</td>\n",
              "      <td>1.0</td>\n",
              "      <td>4.70</td>\n",
              "      <td>1.0</td>\n",
              "      <td>N</td>\n",
              "      <td>236</td>\n",
              "      <td>79</td>\n",
              "      <td>1</td>\n",
              "      <td>23.3</td>\n",
              "      <td>3.5</td>\n",
              "      <td>0.5</td>\n",
              "      <td>3.00</td>\n",
              "      <td>0.0</td>\n",
              "      <td>1.0</td>\n",
              "      <td>31.30</td>\n",
              "      <td>2.5</td>\n",
              "      <td>0.0</td>\n",
              "    </tr>\n",
              "    <tr>\n",
              "      <th>3</th>\n",
              "      <td>1</td>\n",
              "      <td>2024-01-01 00:36:38</td>\n",
              "      <td>2024-01-01 00:44:56</td>\n",
              "      <td>1.0</td>\n",
              "      <td>1.40</td>\n",
              "      <td>1.0</td>\n",
              "      <td>N</td>\n",
              "      <td>79</td>\n",
              "      <td>211</td>\n",
              "      <td>1</td>\n",
              "      <td>10.0</td>\n",
              "      <td>3.5</td>\n",
              "      <td>0.5</td>\n",
              "      <td>2.00</td>\n",
              "      <td>0.0</td>\n",
              "      <td>1.0</td>\n",
              "      <td>17.00</td>\n",
              "      <td>2.5</td>\n",
              "      <td>0.0</td>\n",
              "    </tr>\n",
              "    <tr>\n",
              "      <th>4</th>\n",
              "      <td>1</td>\n",
              "      <td>2024-01-01 00:46:51</td>\n",
              "      <td>2024-01-01 00:52:57</td>\n",
              "      <td>1.0</td>\n",
              "      <td>0.80</td>\n",
              "      <td>1.0</td>\n",
              "      <td>N</td>\n",
              "      <td>211</td>\n",
              "      <td>148</td>\n",
              "      <td>1</td>\n",
              "      <td>7.9</td>\n",
              "      <td>3.5</td>\n",
              "      <td>0.5</td>\n",
              "      <td>3.20</td>\n",
              "      <td>0.0</td>\n",
              "      <td>1.0</td>\n",
              "      <td>16.10</td>\n",
              "      <td>2.5</td>\n",
              "      <td>0.0</td>\n",
              "    </tr>\n",
              "  </tbody>\n",
              "</table>\n",
              "</div>\n",
              "    <div class=\"colab-df-buttons\">\n",
              "\n",
              "  <div class=\"colab-df-container\">\n",
              "    <button class=\"colab-df-convert\" onclick=\"convertToInteractive('df-6dabdcf9-0c3f-44ce-8e81-973838ea1db8')\"\n",
              "            title=\"Convert this dataframe to an interactive table.\"\n",
              "            style=\"display:none;\">\n",
              "\n",
              "  <svg xmlns=\"http://www.w3.org/2000/svg\" height=\"24px\" viewBox=\"0 -960 960 960\">\n",
              "    <path d=\"M120-120v-720h720v720H120Zm60-500h600v-160H180v160Zm220 220h160v-160H400v160Zm0 220h160v-160H400v160ZM180-400h160v-160H180v160Zm440 0h160v-160H620v160ZM180-180h160v-160H180v160Zm440 0h160v-160H620v160Z\"/>\n",
              "  </svg>\n",
              "    </button>\n",
              "\n",
              "  <style>\n",
              "    .colab-df-container {\n",
              "      display:flex;\n",
              "      gap: 12px;\n",
              "    }\n",
              "\n",
              "    .colab-df-convert {\n",
              "      background-color: #E8F0FE;\n",
              "      border: none;\n",
              "      border-radius: 50%;\n",
              "      cursor: pointer;\n",
              "      display: none;\n",
              "      fill: #1967D2;\n",
              "      height: 32px;\n",
              "      padding: 0 0 0 0;\n",
              "      width: 32px;\n",
              "    }\n",
              "\n",
              "    .colab-df-convert:hover {\n",
              "      background-color: #E2EBFA;\n",
              "      box-shadow: 0px 1px 2px rgba(60, 64, 67, 0.3), 0px 1px 3px 1px rgba(60, 64, 67, 0.15);\n",
              "      fill: #174EA6;\n",
              "    }\n",
              "\n",
              "    .colab-df-buttons div {\n",
              "      margin-bottom: 4px;\n",
              "    }\n",
              "\n",
              "    [theme=dark] .colab-df-convert {\n",
              "      background-color: #3B4455;\n",
              "      fill: #D2E3FC;\n",
              "    }\n",
              "\n",
              "    [theme=dark] .colab-df-convert:hover {\n",
              "      background-color: #434B5C;\n",
              "      box-shadow: 0px 1px 3px 1px rgba(0, 0, 0, 0.15);\n",
              "      filter: drop-shadow(0px 1px 2px rgba(0, 0, 0, 0.3));\n",
              "      fill: #FFFFFF;\n",
              "    }\n",
              "  </style>\n",
              "\n",
              "    <script>\n",
              "      const buttonEl =\n",
              "        document.querySelector('#df-6dabdcf9-0c3f-44ce-8e81-973838ea1db8 button.colab-df-convert');\n",
              "      buttonEl.style.display =\n",
              "        google.colab.kernel.accessAllowed ? 'block' : 'none';\n",
              "\n",
              "      async function convertToInteractive(key) {\n",
              "        const element = document.querySelector('#df-6dabdcf9-0c3f-44ce-8e81-973838ea1db8');\n",
              "        const dataTable =\n",
              "          await google.colab.kernel.invokeFunction('convertToInteractive',\n",
              "                                                    [key], {});\n",
              "        if (!dataTable) return;\n",
              "\n",
              "        const docLinkHtml = 'Like what you see? Visit the ' +\n",
              "          '<a target=\"_blank\" href=https://colab.research.google.com/notebooks/data_table.ipynb>data table notebook</a>'\n",
              "          + ' to learn more about interactive tables.';\n",
              "        element.innerHTML = '';\n",
              "        dataTable['output_type'] = 'display_data';\n",
              "        await google.colab.output.renderOutput(dataTable, element);\n",
              "        const docLink = document.createElement('div');\n",
              "        docLink.innerHTML = docLinkHtml;\n",
              "        element.appendChild(docLink);\n",
              "      }\n",
              "    </script>\n",
              "  </div>\n",
              "\n",
              "\n",
              "    <div id=\"df-d8b77a00-0df3-4b2a-8068-fffa2b7e1367\">\n",
              "      <button class=\"colab-df-quickchart\" onclick=\"quickchart('df-d8b77a00-0df3-4b2a-8068-fffa2b7e1367')\"\n",
              "                title=\"Suggest charts\"\n",
              "                style=\"display:none;\">\n",
              "\n",
              "<svg xmlns=\"http://www.w3.org/2000/svg\" height=\"24px\"viewBox=\"0 0 24 24\"\n",
              "     width=\"24px\">\n",
              "    <g>\n",
              "        <path d=\"M19 3H5c-1.1 0-2 .9-2 2v14c0 1.1.9 2 2 2h14c1.1 0 2-.9 2-2V5c0-1.1-.9-2-2-2zM9 17H7v-7h2v7zm4 0h-2V7h2v10zm4 0h-2v-4h2v4z\"/>\n",
              "    </g>\n",
              "</svg>\n",
              "      </button>\n",
              "\n",
              "<style>\n",
              "  .colab-df-quickchart {\n",
              "      --bg-color: #E8F0FE;\n",
              "      --fill-color: #1967D2;\n",
              "      --hover-bg-color: #E2EBFA;\n",
              "      --hover-fill-color: #174EA6;\n",
              "      --disabled-fill-color: #AAA;\n",
              "      --disabled-bg-color: #DDD;\n",
              "  }\n",
              "\n",
              "  [theme=dark] .colab-df-quickchart {\n",
              "      --bg-color: #3B4455;\n",
              "      --fill-color: #D2E3FC;\n",
              "      --hover-bg-color: #434B5C;\n",
              "      --hover-fill-color: #FFFFFF;\n",
              "      --disabled-bg-color: #3B4455;\n",
              "      --disabled-fill-color: #666;\n",
              "  }\n",
              "\n",
              "  .colab-df-quickchart {\n",
              "    background-color: var(--bg-color);\n",
              "    border: none;\n",
              "    border-radius: 50%;\n",
              "    cursor: pointer;\n",
              "    display: none;\n",
              "    fill: var(--fill-color);\n",
              "    height: 32px;\n",
              "    padding: 0;\n",
              "    width: 32px;\n",
              "  }\n",
              "\n",
              "  .colab-df-quickchart:hover {\n",
              "    background-color: var(--hover-bg-color);\n",
              "    box-shadow: 0 1px 2px rgba(60, 64, 67, 0.3), 0 1px 3px 1px rgba(60, 64, 67, 0.15);\n",
              "    fill: var(--button-hover-fill-color);\n",
              "  }\n",
              "\n",
              "  .colab-df-quickchart-complete:disabled,\n",
              "  .colab-df-quickchart-complete:disabled:hover {\n",
              "    background-color: var(--disabled-bg-color);\n",
              "    fill: var(--disabled-fill-color);\n",
              "    box-shadow: none;\n",
              "  }\n",
              "\n",
              "  .colab-df-spinner {\n",
              "    border: 2px solid var(--fill-color);\n",
              "    border-color: transparent;\n",
              "    border-bottom-color: var(--fill-color);\n",
              "    animation:\n",
              "      spin 1s steps(1) infinite;\n",
              "  }\n",
              "\n",
              "  @keyframes spin {\n",
              "    0% {\n",
              "      border-color: transparent;\n",
              "      border-bottom-color: var(--fill-color);\n",
              "      border-left-color: var(--fill-color);\n",
              "    }\n",
              "    20% {\n",
              "      border-color: transparent;\n",
              "      border-left-color: var(--fill-color);\n",
              "      border-top-color: var(--fill-color);\n",
              "    }\n",
              "    30% {\n",
              "      border-color: transparent;\n",
              "      border-left-color: var(--fill-color);\n",
              "      border-top-color: var(--fill-color);\n",
              "      border-right-color: var(--fill-color);\n",
              "    }\n",
              "    40% {\n",
              "      border-color: transparent;\n",
              "      border-right-color: var(--fill-color);\n",
              "      border-top-color: var(--fill-color);\n",
              "    }\n",
              "    60% {\n",
              "      border-color: transparent;\n",
              "      border-right-color: var(--fill-color);\n",
              "    }\n",
              "    80% {\n",
              "      border-color: transparent;\n",
              "      border-right-color: var(--fill-color);\n",
              "      border-bottom-color: var(--fill-color);\n",
              "    }\n",
              "    90% {\n",
              "      border-color: transparent;\n",
              "      border-bottom-color: var(--fill-color);\n",
              "    }\n",
              "  }\n",
              "</style>\n",
              "\n",
              "      <script>\n",
              "        async function quickchart(key) {\n",
              "          const quickchartButtonEl =\n",
              "            document.querySelector('#' + key + ' button');\n",
              "          quickchartButtonEl.disabled = true;  // To prevent multiple clicks.\n",
              "          quickchartButtonEl.classList.add('colab-df-spinner');\n",
              "          try {\n",
              "            const charts = await google.colab.kernel.invokeFunction(\n",
              "                'suggestCharts', [key], {});\n",
              "          } catch (error) {\n",
              "            console.error('Error during call to suggestCharts:', error);\n",
              "          }\n",
              "          quickchartButtonEl.classList.remove('colab-df-spinner');\n",
              "          quickchartButtonEl.classList.add('colab-df-quickchart-complete');\n",
              "        }\n",
              "        (() => {\n",
              "          let quickchartButtonEl =\n",
              "            document.querySelector('#df-d8b77a00-0df3-4b2a-8068-fffa2b7e1367 button');\n",
              "          quickchartButtonEl.style.display =\n",
              "            google.colab.kernel.accessAllowed ? 'block' : 'none';\n",
              "        })();\n",
              "      </script>\n",
              "    </div>\n",
              "\n",
              "    </div>\n",
              "  </div>\n"
            ],
            "application/vnd.google.colaboratory.intrinsic+json": {
              "type": "dataframe",
              "variable_name": "df",
              "summary": "{\n  \"name\": \"df\",\n  \"rows\": 995,\n  \"fields\": [\n    {\n      \"column\": \"VendorID\",\n      \"properties\": {\n        \"dtype\": \"number\",\n        \"std\": 0,\n        \"min\": 1,\n        \"max\": 2,\n        \"num_unique_values\": 2,\n        \"samples\": [\n          1,\n          2\n        ],\n        \"semantic_type\": \"\",\n        \"description\": \"\"\n      }\n    },\n    {\n      \"column\": \"tpep_pickup_datetime\",\n      \"properties\": {\n        \"dtype\": \"object\",\n        \"num_unique_values\": 861,\n        \"samples\": [\n          \"2024-01-01 00:37:53\",\n          \"2024-01-01 00:52:10\"\n        ],\n        \"semantic_type\": \"\",\n        \"description\": \"\"\n      }\n    },\n    {\n      \"column\": \"tpep_dropoff_datetime\",\n      \"properties\": {\n        \"dtype\": \"object\",\n        \"num_unique_values\": 892,\n        \"samples\": [\n          \"2024-01-01 00:49:27\",\n          \"2024-01-01 00:46:31\"\n        ],\n        \"semantic_type\": \"\",\n        \"description\": \"\"\n      }\n    },\n    {\n      \"column\": \"passenger_count\",\n      \"properties\": {\n        \"dtype\": \"number\",\n        \"std\": 0.9116253266978451,\n        \"min\": 0.0,\n        \"max\": 6.0,\n        \"num_unique_values\": 7,\n        \"samples\": [\n          1.0,\n          2.0\n        ],\n        \"semantic_type\": \"\",\n        \"description\": \"\"\n      }\n    },\n    {\n      \"column\": \"trip_distance\",\n      \"properties\": {\n        \"dtype\": \"number\",\n        \"std\": 3.125267807919388,\n        \"min\": 0.0,\n        \"max\": 23.9,\n        \"num_unique_values\": 444,\n        \"samples\": [\n          3.63,\n          1.36\n        ],\n        \"semantic_type\": \"\",\n        \"description\": \"\"\n      }\n    },\n    {\n      \"column\": \"RatecodeID\",\n      \"properties\": {\n        \"dtype\": \"number\",\n        \"std\": 3.1262599555001818,\n        \"min\": 1.0,\n        \"max\": 99.0,\n        \"num_unique_values\": 5,\n        \"samples\": [\n          5.0,\n          99.0\n        ],\n        \"semantic_type\": \"\",\n        \"description\": \"\"\n      }\n    },\n    {\n      \"column\": \"store_and_fwd_flag\",\n      \"properties\": {\n        \"dtype\": \"category\",\n        \"num_unique_values\": 2,\n        \"samples\": [\n          \"Y\",\n          \"N\"\n        ],\n        \"semantic_type\": \"\",\n        \"description\": \"\"\n      }\n    },\n    {\n      \"column\": \"PULocationID\",\n      \"properties\": {\n        \"dtype\": \"number\",\n        \"std\": 67,\n        \"min\": 4,\n        \"max\": 265,\n        \"num_unique_values\": 66,\n        \"samples\": [\n          224,\n          12\n        ],\n        \"semantic_type\": \"\",\n        \"description\": \"\"\n      }\n    },\n    {\n      \"column\": \"DOLocationID\",\n      \"properties\": {\n        \"dtype\": \"number\",\n        \"std\": 73,\n        \"min\": 4,\n        \"max\": 265,\n        \"num_unique_values\": 114,\n        \"samples\": [\n          69,\n          141\n        ],\n        \"semantic_type\": \"\",\n        \"description\": \"\"\n      }\n    },\n    {\n      \"column\": \"payment_type\",\n      \"properties\": {\n        \"dtype\": \"number\",\n        \"std\": 0,\n        \"min\": 1,\n        \"max\": 4,\n        \"num_unique_values\": 3,\n        \"samples\": [\n          2,\n          1\n        ],\n        \"semantic_type\": \"\",\n        \"description\": \"\"\n      }\n    },\n    {\n      \"column\": \"fare_amount\",\n      \"properties\": {\n        \"dtype\": \"number\",\n        \"std\": 14.916422223234436,\n        \"min\": -47.8,\n        \"max\": 180.0,\n        \"num_unique_values\": 95,\n        \"samples\": [\n          26.1,\n          44.3\n        ],\n        \"semantic_type\": \"\",\n        \"description\": \"\"\n      }\n    },\n    {\n      \"column\": \"extra\",\n      \"properties\": {\n        \"dtype\": \"number\",\n        \"std\": 1.2557422981050455,\n        \"min\": -1.0,\n        \"max\": 7.75,\n        \"num_unique_values\": 9,\n        \"samples\": [\n          7.75,\n          3.5\n        ],\n        \"semantic_type\": \"\",\n        \"description\": \"\"\n      }\n    },\n    {\n      \"column\": \"mta_tax\",\n      \"properties\": {\n        \"dtype\": \"number\",\n        \"std\": 0.07727552935165967,\n        \"min\": -0.5,\n        \"max\": 0.5,\n        \"num_unique_values\": 3,\n        \"samples\": [\n          0.5,\n          0.0\n        ],\n        \"semantic_type\": \"\",\n        \"description\": \"\"\n      }\n    },\n    {\n      \"column\": \"tip_amount\",\n      \"properties\": {\n        \"dtype\": \"number\",\n        \"std\": 4.195506992895371,\n        \"min\": 0.0,\n        \"max\": 80.0,\n        \"num_unique_values\": 237,\n        \"samples\": [\n          4.25,\n          7.92\n        ],\n        \"semantic_type\": \"\",\n        \"description\": \"\"\n      }\n    },\n    {\n      \"column\": \"tolls_amount\",\n      \"properties\": {\n        \"dtype\": \"number\",\n        \"std\": 1.1809067673191969,\n        \"min\": 0.0,\n        \"max\": 12.75,\n        \"num_unique_values\": 4,\n        \"samples\": [\n          6.94,\n          3.18\n        ],\n        \"semantic_type\": \"\",\n        \"description\": \"\"\n      }\n    },\n    {\n      \"column\": \"improvement_surcharge\",\n      \"properties\": {\n        \"dtype\": \"number\",\n        \"std\": 0.14492901183207998,\n        \"min\": -1.0,\n        \"max\": 1.0,\n        \"num_unique_values\": 3,\n        \"samples\": [\n          1.0,\n          -1.0\n        ],\n        \"semantic_type\": \"\",\n        \"description\": \"\"\n      }\n    },\n    {\n      \"column\": \"total_amount\",\n      \"properties\": {\n        \"dtype\": \"number\",\n        \"std\": 18.09201780111972,\n        \"min\": -52.8,\n        \"max\": 217.2,\n        \"num_unique_values\": 423,\n        \"samples\": [\n          23.9,\n          -34.25\n        ],\n        \"semantic_type\": \"\",\n        \"description\": \"\"\n      }\n    },\n    {\n      \"column\": \"congestion_surcharge\",\n      \"properties\": {\n        \"dtype\": \"number\",\n        \"std\": 0.6738461492825705,\n        \"min\": -2.5,\n        \"max\": 2.5,\n        \"num_unique_values\": 3,\n        \"samples\": [\n          2.5,\n          0.0\n        ],\n        \"semantic_type\": \"\",\n        \"description\": \"\"\n      }\n    },\n    {\n      \"column\": \"Airport_fee\",\n      \"properties\": {\n        \"dtype\": \"number\",\n        \"std\": 0.30952338823532777,\n        \"min\": -1.75,\n        \"max\": 1.75,\n        \"num_unique_values\": 3,\n        \"samples\": [\n          0.0,\n          1.75\n        ],\n        \"semantic_type\": \"\",\n        \"description\": \"\"\n      }\n    }\n  ]\n}"
            }
          },
          "metadata": {},
          "execution_count": 4
        }
      ]
    },
    {
      "cell_type": "code",
      "source": [
        "df.describe(include='float')"
      ],
      "metadata": {
        "colab": {
          "base_uri": "https://localhost:8080/",
          "height": 320
        },
        "id": "ywaC4R07HkpF",
        "outputId": "a839d245-6b32-4acc-d95a-d861451908e1"
      },
      "execution_count": null,
      "outputs": [
        {
          "output_type": "execute_result",
          "data": {
            "text/plain": [
              "       passenger_count  trip_distance  RatecodeID  fare_amount       extra  \\\n",
              "count       995.000000     995.000000  995.000000   995.000000  995.000000   \n",
              "mean          1.581910       2.890472    1.138693    18.278593    1.741457   \n",
              "std           0.911625       3.125268    3.126260    14.916422    1.255742   \n",
              "min           0.000000       0.000000    1.000000   -47.800000   -1.000000   \n",
              "25%           1.000000       1.125000    1.000000     9.300000    1.000000   \n",
              "50%           1.000000       1.960000    1.000000    14.200000    1.000000   \n",
              "75%           2.000000       3.400000    1.000000    22.600000    3.500000   \n",
              "max           6.000000      23.900000   99.000000   180.000000    7.750000   \n",
              "\n",
              "          mta_tax  tip_amount  tolls_amount  improvement_surcharge  \\\n",
              "count  995.000000  995.000000    995.000000             995.000000   \n",
              "mean     0.491960    3.483146      0.197357               0.988945   \n",
              "std      0.077276    4.195507      1.180907               0.144929   \n",
              "min     -0.500000    0.000000      0.000000              -1.000000   \n",
              "25%      0.500000    0.000000      0.000000               1.000000   \n",
              "50%      0.500000    3.000000      0.000000               1.000000   \n",
              "75%      0.500000    4.820000      0.000000               1.000000   \n",
              "max      0.500000   80.000000     12.750000               1.000000   \n",
              "\n",
              "       total_amount  congestion_surcharge  Airport_fee  \n",
              "count    995.000000            995.000000   995.000000  \n",
              "mean      26.847538              2.326633     0.052764  \n",
              "std       18.092018              0.673846     0.309523  \n",
              "min      -52.800000             -2.500000    -1.750000  \n",
              "25%       16.320000              2.500000     0.000000  \n",
              "50%       22.200000              2.500000     0.000000  \n",
              "75%       31.770000              2.500000     0.000000  \n",
              "max      217.200000              2.500000     1.750000  "
            ],
            "text/html": [
              "\n",
              "  <div id=\"df-edcbfc71-7c77-41f7-a8e8-226b9cba9e4b\" class=\"colab-df-container\">\n",
              "    <div>\n",
              "<style scoped>\n",
              "    .dataframe tbody tr th:only-of-type {\n",
              "        vertical-align: middle;\n",
              "    }\n",
              "\n",
              "    .dataframe tbody tr th {\n",
              "        vertical-align: top;\n",
              "    }\n",
              "\n",
              "    .dataframe thead th {\n",
              "        text-align: right;\n",
              "    }\n",
              "</style>\n",
              "<table border=\"1\" class=\"dataframe\">\n",
              "  <thead>\n",
              "    <tr style=\"text-align: right;\">\n",
              "      <th></th>\n",
              "      <th>passenger_count</th>\n",
              "      <th>trip_distance</th>\n",
              "      <th>RatecodeID</th>\n",
              "      <th>fare_amount</th>\n",
              "      <th>extra</th>\n",
              "      <th>mta_tax</th>\n",
              "      <th>tip_amount</th>\n",
              "      <th>tolls_amount</th>\n",
              "      <th>improvement_surcharge</th>\n",
              "      <th>total_amount</th>\n",
              "      <th>congestion_surcharge</th>\n",
              "      <th>Airport_fee</th>\n",
              "    </tr>\n",
              "  </thead>\n",
              "  <tbody>\n",
              "    <tr>\n",
              "      <th>count</th>\n",
              "      <td>995.000000</td>\n",
              "      <td>995.000000</td>\n",
              "      <td>995.000000</td>\n",
              "      <td>995.000000</td>\n",
              "      <td>995.000000</td>\n",
              "      <td>995.000000</td>\n",
              "      <td>995.000000</td>\n",
              "      <td>995.000000</td>\n",
              "      <td>995.000000</td>\n",
              "      <td>995.000000</td>\n",
              "      <td>995.000000</td>\n",
              "      <td>995.000000</td>\n",
              "    </tr>\n",
              "    <tr>\n",
              "      <th>mean</th>\n",
              "      <td>1.581910</td>\n",
              "      <td>2.890472</td>\n",
              "      <td>1.138693</td>\n",
              "      <td>18.278593</td>\n",
              "      <td>1.741457</td>\n",
              "      <td>0.491960</td>\n",
              "      <td>3.483146</td>\n",
              "      <td>0.197357</td>\n",
              "      <td>0.988945</td>\n",
              "      <td>26.847538</td>\n",
              "      <td>2.326633</td>\n",
              "      <td>0.052764</td>\n",
              "    </tr>\n",
              "    <tr>\n",
              "      <th>std</th>\n",
              "      <td>0.911625</td>\n",
              "      <td>3.125268</td>\n",
              "      <td>3.126260</td>\n",
              "      <td>14.916422</td>\n",
              "      <td>1.255742</td>\n",
              "      <td>0.077276</td>\n",
              "      <td>4.195507</td>\n",
              "      <td>1.180907</td>\n",
              "      <td>0.144929</td>\n",
              "      <td>18.092018</td>\n",
              "      <td>0.673846</td>\n",
              "      <td>0.309523</td>\n",
              "    </tr>\n",
              "    <tr>\n",
              "      <th>min</th>\n",
              "      <td>0.000000</td>\n",
              "      <td>0.000000</td>\n",
              "      <td>1.000000</td>\n",
              "      <td>-47.800000</td>\n",
              "      <td>-1.000000</td>\n",
              "      <td>-0.500000</td>\n",
              "      <td>0.000000</td>\n",
              "      <td>0.000000</td>\n",
              "      <td>-1.000000</td>\n",
              "      <td>-52.800000</td>\n",
              "      <td>-2.500000</td>\n",
              "      <td>-1.750000</td>\n",
              "    </tr>\n",
              "    <tr>\n",
              "      <th>25%</th>\n",
              "      <td>1.000000</td>\n",
              "      <td>1.125000</td>\n",
              "      <td>1.000000</td>\n",
              "      <td>9.300000</td>\n",
              "      <td>1.000000</td>\n",
              "      <td>0.500000</td>\n",
              "      <td>0.000000</td>\n",
              "      <td>0.000000</td>\n",
              "      <td>1.000000</td>\n",
              "      <td>16.320000</td>\n",
              "      <td>2.500000</td>\n",
              "      <td>0.000000</td>\n",
              "    </tr>\n",
              "    <tr>\n",
              "      <th>50%</th>\n",
              "      <td>1.000000</td>\n",
              "      <td>1.960000</td>\n",
              "      <td>1.000000</td>\n",
              "      <td>14.200000</td>\n",
              "      <td>1.000000</td>\n",
              "      <td>0.500000</td>\n",
              "      <td>3.000000</td>\n",
              "      <td>0.000000</td>\n",
              "      <td>1.000000</td>\n",
              "      <td>22.200000</td>\n",
              "      <td>2.500000</td>\n",
              "      <td>0.000000</td>\n",
              "    </tr>\n",
              "    <tr>\n",
              "      <th>75%</th>\n",
              "      <td>2.000000</td>\n",
              "      <td>3.400000</td>\n",
              "      <td>1.000000</td>\n",
              "      <td>22.600000</td>\n",
              "      <td>3.500000</td>\n",
              "      <td>0.500000</td>\n",
              "      <td>4.820000</td>\n",
              "      <td>0.000000</td>\n",
              "      <td>1.000000</td>\n",
              "      <td>31.770000</td>\n",
              "      <td>2.500000</td>\n",
              "      <td>0.000000</td>\n",
              "    </tr>\n",
              "    <tr>\n",
              "      <th>max</th>\n",
              "      <td>6.000000</td>\n",
              "      <td>23.900000</td>\n",
              "      <td>99.000000</td>\n",
              "      <td>180.000000</td>\n",
              "      <td>7.750000</td>\n",
              "      <td>0.500000</td>\n",
              "      <td>80.000000</td>\n",
              "      <td>12.750000</td>\n",
              "      <td>1.000000</td>\n",
              "      <td>217.200000</td>\n",
              "      <td>2.500000</td>\n",
              "      <td>1.750000</td>\n",
              "    </tr>\n",
              "  </tbody>\n",
              "</table>\n",
              "</div>\n",
              "    <div class=\"colab-df-buttons\">\n",
              "\n",
              "  <div class=\"colab-df-container\">\n",
              "    <button class=\"colab-df-convert\" onclick=\"convertToInteractive('df-edcbfc71-7c77-41f7-a8e8-226b9cba9e4b')\"\n",
              "            title=\"Convert this dataframe to an interactive table.\"\n",
              "            style=\"display:none;\">\n",
              "\n",
              "  <svg xmlns=\"http://www.w3.org/2000/svg\" height=\"24px\" viewBox=\"0 -960 960 960\">\n",
              "    <path d=\"M120-120v-720h720v720H120Zm60-500h600v-160H180v160Zm220 220h160v-160H400v160Zm0 220h160v-160H400v160ZM180-400h160v-160H180v160Zm440 0h160v-160H620v160ZM180-180h160v-160H180v160Zm440 0h160v-160H620v160Z\"/>\n",
              "  </svg>\n",
              "    </button>\n",
              "\n",
              "  <style>\n",
              "    .colab-df-container {\n",
              "      display:flex;\n",
              "      gap: 12px;\n",
              "    }\n",
              "\n",
              "    .colab-df-convert {\n",
              "      background-color: #E8F0FE;\n",
              "      border: none;\n",
              "      border-radius: 50%;\n",
              "      cursor: pointer;\n",
              "      display: none;\n",
              "      fill: #1967D2;\n",
              "      height: 32px;\n",
              "      padding: 0 0 0 0;\n",
              "      width: 32px;\n",
              "    }\n",
              "\n",
              "    .colab-df-convert:hover {\n",
              "      background-color: #E2EBFA;\n",
              "      box-shadow: 0px 1px 2px rgba(60, 64, 67, 0.3), 0px 1px 3px 1px rgba(60, 64, 67, 0.15);\n",
              "      fill: #174EA6;\n",
              "    }\n",
              "\n",
              "    .colab-df-buttons div {\n",
              "      margin-bottom: 4px;\n",
              "    }\n",
              "\n",
              "    [theme=dark] .colab-df-convert {\n",
              "      background-color: #3B4455;\n",
              "      fill: #D2E3FC;\n",
              "    }\n",
              "\n",
              "    [theme=dark] .colab-df-convert:hover {\n",
              "      background-color: #434B5C;\n",
              "      box-shadow: 0px 1px 3px 1px rgba(0, 0, 0, 0.15);\n",
              "      filter: drop-shadow(0px 1px 2px rgba(0, 0, 0, 0.3));\n",
              "      fill: #FFFFFF;\n",
              "    }\n",
              "  </style>\n",
              "\n",
              "    <script>\n",
              "      const buttonEl =\n",
              "        document.querySelector('#df-edcbfc71-7c77-41f7-a8e8-226b9cba9e4b button.colab-df-convert');\n",
              "      buttonEl.style.display =\n",
              "        google.colab.kernel.accessAllowed ? 'block' : 'none';\n",
              "\n",
              "      async function convertToInteractive(key) {\n",
              "        const element = document.querySelector('#df-edcbfc71-7c77-41f7-a8e8-226b9cba9e4b');\n",
              "        const dataTable =\n",
              "          await google.colab.kernel.invokeFunction('convertToInteractive',\n",
              "                                                    [key], {});\n",
              "        if (!dataTable) return;\n",
              "\n",
              "        const docLinkHtml = 'Like what you see? Visit the ' +\n",
              "          '<a target=\"_blank\" href=https://colab.research.google.com/notebooks/data_table.ipynb>data table notebook</a>'\n",
              "          + ' to learn more about interactive tables.';\n",
              "        element.innerHTML = '';\n",
              "        dataTable['output_type'] = 'display_data';\n",
              "        await google.colab.output.renderOutput(dataTable, element);\n",
              "        const docLink = document.createElement('div');\n",
              "        docLink.innerHTML = docLinkHtml;\n",
              "        element.appendChild(docLink);\n",
              "      }\n",
              "    </script>\n",
              "  </div>\n",
              "\n",
              "\n",
              "    <div id=\"df-e604c382-91af-4e8b-bb28-5dd8e226faee\">\n",
              "      <button class=\"colab-df-quickchart\" onclick=\"quickchart('df-e604c382-91af-4e8b-bb28-5dd8e226faee')\"\n",
              "                title=\"Suggest charts\"\n",
              "                style=\"display:none;\">\n",
              "\n",
              "<svg xmlns=\"http://www.w3.org/2000/svg\" height=\"24px\"viewBox=\"0 0 24 24\"\n",
              "     width=\"24px\">\n",
              "    <g>\n",
              "        <path d=\"M19 3H5c-1.1 0-2 .9-2 2v14c0 1.1.9 2 2 2h14c1.1 0 2-.9 2-2V5c0-1.1-.9-2-2-2zM9 17H7v-7h2v7zm4 0h-2V7h2v10zm4 0h-2v-4h2v4z\"/>\n",
              "    </g>\n",
              "</svg>\n",
              "      </button>\n",
              "\n",
              "<style>\n",
              "  .colab-df-quickchart {\n",
              "      --bg-color: #E8F0FE;\n",
              "      --fill-color: #1967D2;\n",
              "      --hover-bg-color: #E2EBFA;\n",
              "      --hover-fill-color: #174EA6;\n",
              "      --disabled-fill-color: #AAA;\n",
              "      --disabled-bg-color: #DDD;\n",
              "  }\n",
              "\n",
              "  [theme=dark] .colab-df-quickchart {\n",
              "      --bg-color: #3B4455;\n",
              "      --fill-color: #D2E3FC;\n",
              "      --hover-bg-color: #434B5C;\n",
              "      --hover-fill-color: #FFFFFF;\n",
              "      --disabled-bg-color: #3B4455;\n",
              "      --disabled-fill-color: #666;\n",
              "  }\n",
              "\n",
              "  .colab-df-quickchart {\n",
              "    background-color: var(--bg-color);\n",
              "    border: none;\n",
              "    border-radius: 50%;\n",
              "    cursor: pointer;\n",
              "    display: none;\n",
              "    fill: var(--fill-color);\n",
              "    height: 32px;\n",
              "    padding: 0;\n",
              "    width: 32px;\n",
              "  }\n",
              "\n",
              "  .colab-df-quickchart:hover {\n",
              "    background-color: var(--hover-bg-color);\n",
              "    box-shadow: 0 1px 2px rgba(60, 64, 67, 0.3), 0 1px 3px 1px rgba(60, 64, 67, 0.15);\n",
              "    fill: var(--button-hover-fill-color);\n",
              "  }\n",
              "\n",
              "  .colab-df-quickchart-complete:disabled,\n",
              "  .colab-df-quickchart-complete:disabled:hover {\n",
              "    background-color: var(--disabled-bg-color);\n",
              "    fill: var(--disabled-fill-color);\n",
              "    box-shadow: none;\n",
              "  }\n",
              "\n",
              "  .colab-df-spinner {\n",
              "    border: 2px solid var(--fill-color);\n",
              "    border-color: transparent;\n",
              "    border-bottom-color: var(--fill-color);\n",
              "    animation:\n",
              "      spin 1s steps(1) infinite;\n",
              "  }\n",
              "\n",
              "  @keyframes spin {\n",
              "    0% {\n",
              "      border-color: transparent;\n",
              "      border-bottom-color: var(--fill-color);\n",
              "      border-left-color: var(--fill-color);\n",
              "    }\n",
              "    20% {\n",
              "      border-color: transparent;\n",
              "      border-left-color: var(--fill-color);\n",
              "      border-top-color: var(--fill-color);\n",
              "    }\n",
              "    30% {\n",
              "      border-color: transparent;\n",
              "      border-left-color: var(--fill-color);\n",
              "      border-top-color: var(--fill-color);\n",
              "      border-right-color: var(--fill-color);\n",
              "    }\n",
              "    40% {\n",
              "      border-color: transparent;\n",
              "      border-right-color: var(--fill-color);\n",
              "      border-top-color: var(--fill-color);\n",
              "    }\n",
              "    60% {\n",
              "      border-color: transparent;\n",
              "      border-right-color: var(--fill-color);\n",
              "    }\n",
              "    80% {\n",
              "      border-color: transparent;\n",
              "      border-right-color: var(--fill-color);\n",
              "      border-bottom-color: var(--fill-color);\n",
              "    }\n",
              "    90% {\n",
              "      border-color: transparent;\n",
              "      border-bottom-color: var(--fill-color);\n",
              "    }\n",
              "  }\n",
              "</style>\n",
              "\n",
              "      <script>\n",
              "        async function quickchart(key) {\n",
              "          const quickchartButtonEl =\n",
              "            document.querySelector('#' + key + ' button');\n",
              "          quickchartButtonEl.disabled = true;  // To prevent multiple clicks.\n",
              "          quickchartButtonEl.classList.add('colab-df-spinner');\n",
              "          try {\n",
              "            const charts = await google.colab.kernel.invokeFunction(\n",
              "                'suggestCharts', [key], {});\n",
              "          } catch (error) {\n",
              "            console.error('Error during call to suggestCharts:', error);\n",
              "          }\n",
              "          quickchartButtonEl.classList.remove('colab-df-spinner');\n",
              "          quickchartButtonEl.classList.add('colab-df-quickchart-complete');\n",
              "        }\n",
              "        (() => {\n",
              "          let quickchartButtonEl =\n",
              "            document.querySelector('#df-e604c382-91af-4e8b-bb28-5dd8e226faee button');\n",
              "          quickchartButtonEl.style.display =\n",
              "            google.colab.kernel.accessAllowed ? 'block' : 'none';\n",
              "        })();\n",
              "      </script>\n",
              "    </div>\n",
              "\n",
              "    </div>\n",
              "  </div>\n"
            ],
            "application/vnd.google.colaboratory.intrinsic+json": {
              "type": "dataframe",
              "summary": "{\n  \"name\": \"df\",\n  \"rows\": 8,\n  \"fields\": [\n    {\n      \"column\": \"passenger_count\",\n      \"properties\": {\n        \"dtype\": \"number\",\n        \"std\": 351.1592904014665,\n        \"min\": 0.0,\n        \"max\": 995.0,\n        \"num_unique_values\": 7,\n        \"samples\": [\n          995.0,\n          1.5819095477386935,\n          2.0\n        ],\n        \"semantic_type\": \"\",\n        \"description\": \"\"\n      }\n    },\n    {\n      \"column\": \"trip_distance\",\n      \"properties\": {\n        \"dtype\": \"number\",\n        \"std\": 350.032154339633,\n        \"min\": 0.0,\n        \"max\": 995.0,\n        \"num_unique_values\": 8,\n        \"samples\": [\n          2.8904723618090453,\n          1.96,\n          995.0\n        ],\n        \"semantic_type\": \"\",\n        \"description\": \"\"\n      }\n    },\n    {\n      \"column\": \"RatecodeID\",\n      \"properties\": {\n        \"dtype\": \"number\",\n        \"std\": 348.049168669578,\n        \"min\": 1.0,\n        \"max\": 995.0,\n        \"num_unique_values\": 5,\n        \"samples\": [\n          1.1386934673366833,\n          99.0,\n          3.1262599555001818\n        ],\n        \"semantic_type\": \"\",\n        \"description\": \"\"\n      }\n    },\n    {\n      \"column\": \"fare_amount\",\n      \"properties\": {\n        \"dtype\": \"number\",\n        \"std\": 347.2569157808732,\n        \"min\": -47.8,\n        \"max\": 995.0,\n        \"num_unique_values\": 8,\n        \"samples\": [\n          18.27859296482412,\n          14.2,\n          995.0\n        ],\n        \"semantic_type\": \"\",\n        \"description\": \"\"\n      }\n    },\n    {\n      \"column\": \"extra\",\n      \"properties\": {\n        \"dtype\": \"number\",\n        \"std\": 351.0250289262352,\n        \"min\": -1.0,\n        \"max\": 995.0,\n        \"num_unique_values\": 7,\n        \"samples\": [\n          995.0,\n          1.741457286432161,\n          3.5\n        ],\n        \"semantic_type\": \"\",\n        \"description\": \"\"\n      }\n    },\n    {\n      \"column\": \"mta_tax\",\n      \"properties\": {\n        \"dtype\": \"number\",\n        \"std\": 351.681291490538,\n        \"min\": -0.5,\n        \"max\": 995.0,\n        \"num_unique_values\": 5,\n        \"samples\": [\n          0.4919597989949749,\n          0.5,\n          0.07727552935165967\n        ],\n        \"semantic_type\": \"\",\n        \"description\": \"\"\n      }\n    },\n    {\n      \"column\": \"tip_amount\",\n      \"properties\": {\n        \"dtype\": \"number\",\n        \"std\": 348.0226907698196,\n        \"min\": 0.0,\n        \"max\": 995.0,\n        \"num_unique_values\": 7,\n        \"samples\": [\n          995.0,\n          3.4831457286432164,\n          4.82\n        ],\n        \"semantic_type\": \"\",\n        \"description\": \"\"\n      }\n    },\n    {\n      \"column\": \"tolls_amount\",\n      \"properties\": {\n        \"dtype\": \"number\",\n        \"std\": 351.0996021589582,\n        \"min\": 0.0,\n        \"max\": 995.0,\n        \"num_unique_values\": 5,\n        \"samples\": [\n          0.197356783919598,\n          12.75,\n          1.1809067673191969\n        ],\n        \"semantic_type\": \"\",\n        \"description\": \"\"\n      }\n    },\n    {\n      \"column\": \"improvement_surcharge\",\n      \"properties\": {\n        \"dtype\": \"number\",\n        \"std\": 351.57755429947133,\n        \"min\": -1.0,\n        \"max\": 995.0,\n        \"num_unique_values\": 5,\n        \"samples\": [\n          0.9889447236180905,\n          1.0,\n          0.14492901183207998\n        ],\n        \"semantic_type\": \"\",\n        \"description\": \"\"\n      }\n    },\n    {\n      \"column\": \"total_amount\",\n      \"properties\": {\n        \"dtype\": \"number\",\n        \"std\": 346.3524719378282,\n        \"min\": -52.8,\n        \"max\": 995.0,\n        \"num_unique_values\": 8,\n        \"samples\": [\n          26.84753768844221,\n          22.2,\n          995.0\n        ],\n        \"semantic_type\": \"\",\n        \"description\": \"\"\n      }\n    },\n    {\n      \"column\": \"congestion_surcharge\",\n      \"properties\": {\n        \"dtype\": \"number\",\n        \"std\": 351.2596141140087,\n        \"min\": -2.5,\n        \"max\": 995.0,\n        \"num_unique_values\": 5,\n        \"samples\": [\n          2.3266331658291457,\n          2.5,\n          0.6738461492825705\n        ],\n        \"semantic_type\": \"\",\n        \"description\": \"\"\n      }\n    },\n    {\n      \"column\": \"Airport_fee\",\n      \"properties\": {\n        \"dtype\": \"number\",\n        \"std\": 351.7685853023714,\n        \"min\": -1.75,\n        \"max\": 995.0,\n        \"num_unique_values\": 6,\n        \"samples\": [\n          995.0,\n          0.052763819095477386,\n          1.75\n        ],\n        \"semantic_type\": \"\",\n        \"description\": \"\"\n      }\n    }\n  ]\n}"
            }
          },
          "metadata": {},
          "execution_count": 5
        }
      ]
    },
    {
      "cell_type": "markdown",
      "source": [],
      "metadata": {
        "id": "R1NppheOH9q1"
      }
    },
    {
      "cell_type": "code",
      "source": [
        "# median and mode"
      ],
      "metadata": {
        "id": "dyec-9rkHqS0"
      },
      "execution_count": null,
      "outputs": []
    },
    {
      "cell_type": "code",
      "source": [
        "# • Passenger_count\n",
        "# • Trip_distance\n",
        "# • Fare_amount\n",
        "# • Total_amount\n",
        "# • Tip_amount\n",
        "# • Extra"
      ],
      "metadata": {
        "id": "FwdBwChVJYX1"
      },
      "execution_count": null,
      "outputs": []
    },
    {
      "cell_type": "code",
      "source": [
        "passenger_median=df['passenger_count'].median()\n",
        "passenger_mode=df['passenger_count'].mode()\n",
        "passenger_mean=df['passenger_count'].mean()\n",
        "passenger_max=df['passenger_count'].max()\n",
        "passenger_min=df['passenger_count'].min()\n",
        "\n",
        "trip_mean=df['trip_distance'].mean()\n",
        "trip_median=df['trip_distance'].median()\n",
        "trip_mode=df['trip_distance'].mode()\n",
        "trip_max=df['trip_distance'].max()\n",
        "trip_min=df['trip_distance'].min()\n",
        "\n",
        "fare_mean=df['fare_amount'].mean()\n",
        "fare_median=df['fare_amount'].median()\n",
        "fare_mode=df['fare_amount'].mode()\n",
        "fare_max=df['fare_amount'].max()\n",
        "fare_min=df['fare_amount'].min()\n",
        "\n",
        "total_mean=df['total_amount'].mean()\n",
        "total_median=df['total_amount'].median()\n",
        "total_mode=df['total_amount'].mode()\n",
        "total_max=df['total_amount'].max()\n",
        "total_min=df['total_amount'].min()\n",
        "\n",
        "tip_mean=df['tip_amount'].mean()\n",
        "tip_median=df['tip_amount'].median()\n",
        "tip_mode=df['tip_amount'].mode()\n",
        "tip_max=df['tip_amount'].max()\n",
        "tip_min=df['tip_amount'].min()\n",
        "\n",
        "extra_mean=df['extra'].mean()\n",
        "extra_median=df['extra'].median()\n",
        "extra_mode=df['extra'].mode()\n",
        "extra_max=df['extra'].max()\n",
        "extra_min=df['extra'].min()\n",
        "\n"
      ],
      "metadata": {
        "id": "wxMik-h9JdDV"
      },
      "execution_count": null,
      "outputs": []
    },
    {
      "cell_type": "code",
      "source": [
        "\n",
        "\n"
      ],
      "metadata": {
        "id": "31zYHjRNJxyl"
      },
      "execution_count": null,
      "outputs": []
    },
    {
      "cell_type": "code",
      "metadata": {
        "colab": {
          "base_uri": "https://localhost:8080/"
        },
        "id": "1880febd",
        "outputId": "b98c489d-71e2-41d9-e762-f6b0432f6f24"
      },
      "source": [
        "print(\"Passenger_count:\")\n",
        "print(f\"Mean: {df['passenger_count'].mean()}\")\n",
        "print(f\"Median: {df['passenger_count'].median()}\")\n",
        "print(f\"Mode: {df['passenger_count'].mode().tolist()}\")\n",
        "print(\"-\" * 30)"
      ],
      "execution_count": null,
      "outputs": [
        {
          "output_type": "stream",
          "name": "stdout",
          "text": [
            "Passenger_count:\n",
            "Mean: 1.5819095477386935\n",
            "Median: 1.0\n",
            "Mode: [1.0]\n",
            "------------------------------\n"
          ]
        }
      ]
    },
    {
      "cell_type": "code",
      "metadata": {
        "colab": {
          "base_uri": "https://localhost:8080/"
        },
        "id": "3d89c99c",
        "outputId": "04621595-12c1-4c9f-f010-6a0a66e93039"
      },
      "source": [
        "print(\"Trip_distance:\")\n",
        "print(f\"Mean: {df['trip_distance'].mean()}\")\n",
        "print(f\"Median: {df['trip_distance'].median()}\")\n",
        "print(f\"Mode: {df['trip_distance'].mode().tolist()}\")\n",
        "print(\"-\" * 30)"
      ],
      "execution_count": null,
      "outputs": [
        {
          "output_type": "stream",
          "name": "stdout",
          "text": [
            "Trip_distance:\n",
            "Mean: 2.8904723618090453\n",
            "Median: 1.96\n",
            "Mode: [0.9, 1.1]\n",
            "------------------------------\n"
          ]
        }
      ]
    },
    {
      "cell_type": "code",
      "metadata": {
        "colab": {
          "base_uri": "https://localhost:8080/"
        },
        "id": "3e0e16a6",
        "outputId": "577b8c60-c5be-4500-fdac-afe84bb6d51d"
      },
      "source": [
        "print(\"Fare_amount:\")\n",
        "print(f\"Mean: {df['fare_amount'].mean()}\")\n",
        "print(f\"Median: {df['fare_amount'].median()}\")\n",
        "print(f\"Mode: {df['fare_amount'].mode().tolist()}\")\n",
        "print(\"-\" * 30)"
      ],
      "execution_count": null,
      "outputs": [
        {
          "output_type": "stream",
          "name": "stdout",
          "text": [
            "Fare_amount:\n",
            "Mean: 18.27859296482412\n",
            "Median: 14.2\n",
            "Mode: [6.5]\n",
            "------------------------------\n"
          ]
        }
      ]
    },
    {
      "cell_type": "code",
      "metadata": {
        "colab": {
          "base_uri": "https://localhost:8080/"
        },
        "id": "ad6844d3",
        "outputId": "306c5121-320c-4f5f-bec3-b5d9b3925648"
      },
      "source": [
        "print(\"Total_amount:\")\n",
        "print(f\"Mean: {df['total_amount'].mean()}\")\n",
        "print(f\"Median: {df['total_amount'].median()}\")\n",
        "print(f\"Mode: {df['total_amount'].mode().tolist()}\")\n",
        "print(\"-\" * 30)"
      ],
      "execution_count": null,
      "outputs": [
        {
          "output_type": "stream",
          "name": "stdout",
          "text": [
            "Total_amount:\n",
            "Mean: 26.84753768844221\n",
            "Median: 22.2\n",
            "Mode: [16.32]\n",
            "------------------------------\n"
          ]
        }
      ]
    },
    {
      "cell_type": "code",
      "metadata": {
        "colab": {
          "base_uri": "https://localhost:8080/"
        },
        "id": "0c53ba6b",
        "outputId": "682a63d1-7b62-4b5d-8484-fbb0ed084296"
      },
      "source": [
        "print(\"Tip_amount:\")\n",
        "print(f\"Mean: {df['tip_amount'].mean()}\")\n",
        "print(f\"Median: {df['tip_amount'].median()}\")\n",
        "print(f\"Mode: {df['tip_amount'].mode().tolist()}\")\n",
        "print(\"-\" * 30)"
      ],
      "execution_count": null,
      "outputs": [
        {
          "output_type": "stream",
          "name": "stdout",
          "text": [
            "Tip_amount:\n",
            "Mean: 3.4831457286432164\n",
            "Median: 3.0\n",
            "Mode: [0.0]\n",
            "------------------------------\n"
          ]
        }
      ]
    },
    {
      "cell_type": "code",
      "metadata": {
        "colab": {
          "base_uri": "https://localhost:8080/"
        },
        "id": "de61e1f2",
        "outputId": "f6f52376-0e23-458b-b19c-4cdd921dcc14"
      },
      "source": [
        "print(\"Extra:\")\n",
        "print(f\"Mean: {df['extra'].mean()}\")\n",
        "print(f\"Median: {df['extra'].median()}\")\n",
        "print(f\"Mode: {df['extra'].mode().tolist()}\")\n",
        "print(\"-\" * 30)"
      ],
      "execution_count": null,
      "outputs": [
        {
          "output_type": "stream",
          "name": "stdout",
          "text": [
            "Extra:\n",
            "Mean: 1.741457286432161\n",
            "Median: 1.0\n",
            "Mode: [1.0]\n",
            "------------------------------\n"
          ]
        }
      ]
    },
    {
      "cell_type": "code",
      "source": [
        "#plotting each column\n",
        "import seaborn as sns\n",
        "\n",
        "sns.histplot(df['passenger_count'],kde=True,bins=range(int(passenger_min),int(passenger_max)+ 2))"
      ],
      "metadata": {
        "colab": {
          "base_uri": "https://localhost:8080/",
          "height": 466
        },
        "id": "w7QMglG4LCgd",
        "outputId": "2c4048a0-6208-4b66-bacf-baf965f2c5f5"
      },
      "execution_count": null,
      "outputs": [
        {
          "output_type": "execute_result",
          "data": {
            "text/plain": [
              "<Axes: xlabel='passenger_count', ylabel='Count'>"
            ]
          },
          "metadata": {},
          "execution_count": 15
        },
        {
          "output_type": "display_data",
          "data": {
            "text/plain": [
              "<Figure size 640x480 with 1 Axes>"
            ],
            "image/png": "[encoded data removed]"
          },
          "metadata": {}
        }
      ]
    },
    {
      "cell_type": "code",
      "source": [
        "sns.histplot(df['trip_distance'],kde=True)"
      ],
      "metadata": {
        "colab": {
          "base_uri": "https://localhost:8080/",
          "height": 467
        },
        "id": "OztDrBAZL_69",
        "outputId": "bebdf99b-0117-4e9d-8c1e-de32cf47f00c"
      },
      "execution_count": null,
      "outputs": [
        {
          "output_type": "execute_result",
          "data": {
            "text/plain": [
              "<Axes: xlabel='trip_distance', ylabel='Count'>"
            ]
          },
          "metadata": {},
          "execution_count": 16
        },
        {
          "output_type": "display_data",
          "data": {
            "text/plain": [
              "<Figure size 640x480 with 1 Axes>"
            ],
            "image/png": "[encoded data removed]"
          },
          "metadata": {}
        }
      ]
    },
    {
      "cell_type": "markdown",
      "metadata": {
        "id": "d37f0a4e"
      },
      "source": []
    },
    {
      "cell_type": "code",
      "source": [
        "sns.histplot(df['fare_amount'],kde=True)"
      ],
      "metadata": {
        "colab": {
          "base_uri": "https://localhost:8080/",
          "height": 467
        },
        "id": "ENi4TItnMDw9",
        "outputId": "9595017b-bb05-454c-807f-4ef576d4abbc"
      },
      "execution_count": null,
      "outputs": [
        {
          "output_type": "execute_result",
          "data": {
            "text/plain": [
              "<Axes: xlabel='fare_amount', ylabel='Count'>"
            ]
          },
          "metadata": {},
          "execution_count": 17
        },
        {
          "output_type": "display_data",
          "data": {
            "text/plain": [
              "<Figure size 640x480 with 1 Axes>"
            ],
            "image/png": "[encoded data removed]"
          },
          "metadata": {}
        }
      ]
    },
    {
      "cell_type": "code",
      "source": [
        "sns.histplot(df['tip_amount'],kde=True)"
      ],
      "metadata": {
        "colab": {
          "base_uri": "https://localhost:8080/",
          "height": 467
        },
        "id": "aUVHzjJPMYG1",
        "outputId": "bd4948fe-d508-450a-eef1-e6f1546dd161"
      },
      "execution_count": null,
      "outputs": [
        {
          "output_type": "execute_result",
          "data": {
            "text/plain": [
              "<Axes: xlabel='tip_amount', ylabel='Count'>"
            ]
          },
          "metadata": {},
          "execution_count": 18
        },
        {
          "output_type": "display_data",
          "data": {
            "text/plain": [
              "<Figure size 640x480 with 1 Axes>"
            ],
            "image/png": "[encoded data removed]"
          },
          "metadata": {}
        }
      ]
    },
    {
      "cell_type": "code",
      "source": [
        "sns.histplot(df['extra'],kde=True,bins=range(int(extra_min),int(extra_max)+ 2))"
      ],
      "metadata": {
        "colab": {
          "base_uri": "https://localhost:8080/",
          "height": 466
        },
        "id": "cv1TQvucMLMF",
        "outputId": "69e08baa-7a0d-417e-8bcf-514f35d1fb99"
      },
      "execution_count": null,
      "outputs": [
        {
          "output_type": "execute_result",
          "data": {
            "text/plain": [
              "<Axes: xlabel='extra', ylabel='Count'>"
            ]
          },
          "metadata": {},
          "execution_count": 19
        },
        {
          "output_type": "display_data",
          "data": {
            "text/plain": [
              "<Figure size 640x480 with 1 Axes>"
            ],
            "image/png": "[encoded data removed]"
          },
          "metadata": {}
        }
      ]
    },
    {
      "cell_type": "code",
      "source": [
        "print(\"Kurtosis for each plotted column:\")\n",
        "print(f\"Passenger_count: {df['passenger_count'].kurtosis()}\")\n",
        "print(f\"Trip_distance: {df['trip_distance'].kurtosis()}\")\n",
        "print(f\"Fare_amount: {df['fare_amount'].kurtosis()}\")\n",
        "print(f\"Tip_amount: {df['tip_amount'].kurtosis()}\")\n",
        "print(f\"Total AMount: {df['total_amount'].kurtosis()}\")\n",
        "print(f\"Extra: {df['extra'].kurtosis()}\")"
      ],
      "metadata": {
        "colab": {
          "base_uri": "https://localhost:8080/"
        },
        "id": "ntbPGgGvNhyu",
        "outputId": "2902887e-4f0d-4ddc-a804-76327f6aed7b"
      },
      "execution_count": null,
      "outputs": [
        {
          "output_type": "stream",
          "name": "stdout",
          "text": [
            "Kurtosis for each plotted column:\n",
            "Passenger_count: 2.827890429140433\n",
            "Trip_distance: 13.975566356327981\n",
            "Fare_amount: 20.739872581623793\n",
            "Tip_amount: 115.48564563902166\n",
            "Total AMount: 20.194070844679576\n",
            "Extra: 0.7179873692663397\n"
          ]
        }
      ]
    },
    {
      "cell_type": "code",
      "source": [
        "# count number of outliers for each\n",
        "min=df['passenger_count'].mean()-3*df['passenger_count'].std()\n",
        "max=df['passenger_count'].mean()+3*df['passenger_count'].std()\n",
        "\n",
        "print(int(min),int(max))\n",
        "count_outliers=0;\n",
        "outliers=df[df['passenger_count']>int(max)]\n",
        "remain_out=df[df['passenger_count']<int(min)]\n",
        "result_df=pd.concat([outliers,remain_out])\n",
        "result_df.shape"
      ],
      "metadata": {
        "colab": {
          "base_uri": "https://localhost:8080/"
        },
        "id": "aQraqMugQgA-",
        "outputId": "2f1a9a10-f32d-40a5-82d1-d1ed44f659ba"
      },
      "execution_count": null,
      "outputs": [
        {
          "output_type": "stream",
          "name": "stdout",
          "text": [
            "-1 4\n"
          ]
        },
        {
          "output_type": "execute_result",
          "data": {
            "text/plain": [
              "(14, 19)"
            ]
          },
          "metadata": {},
          "execution_count": 21
        }
      ]
    },
    {
      "cell_type": "markdown",
      "metadata": {
        "id": "2085b93c"
      },
      "source": []
    },
    {
      "cell_type": "markdown",
      "metadata": {
        "id": "29ad2f89"
      },
      "source": []
    },
    {
      "cell_type": "code",
      "metadata": {
        "id": "4d97c5cc"
      },
      "source": [],
      "execution_count": null,
      "outputs": []
    },
    {
      "cell_type": "markdown",
      "metadata": {
        "id": "7fcb01c5"
      },
      "source": []
    },
    {
      "cell_type": "markdown",
      "metadata": {
        "id": "9ddb680e"
      },
      "source": []
    },
    {
      "cell_type": "code",
      "metadata": {
        "colab": {
          "base_uri": "https://localhost:8080/"
        },
        "id": "8b327c99",
        "outputId": "15706d3a-e00e-4559-bbbd-84ab8c3beedf"
      },
      "source": [
        "# Count outliers for Passenger_count\n",
        "mean = df['passenger_count'].mean()\n",
        "std = df['passenger_count'].std()\n",
        "lower_bound = mean - 3 * std\n",
        "upper_bound = mean + 3 * std\n",
        "outliers_count = df[(df['passenger_count'] < lower_bound) | (df['passenger_count'] > upper_bound)].shape[0]\n",
        "print(f\"Passenger_count - Number of outliers: {outliers_count}\")"
      ],
      "execution_count": null,
      "outputs": [
        {
          "output_type": "stream",
          "name": "stdout",
          "text": [
            "Passenger_count - Number of outliers: 14\n"
          ]
        }
      ]
    },
    {
      "cell_type": "code",
      "metadata": {
        "colab": {
          "base_uri": "https://localhost:8080/"
        },
        "id": "f4497121",
        "outputId": "7be069fd-abba-4016-c60f-0739d22f9deb"
      },
      "source": [
        "# Count outliers for Trip_distance\n",
        "mean = df['trip_distance'].mean()\n",
        "std = df['trip_distance'].std()\n",
        "lower_bound = mean - 3 * std\n",
        "upper_bound = mean + 3 * std\n",
        "outliers_count = df[(df['trip_distance'] < lower_bound) | (df['trip_distance'] > upper_bound)].shape[0]\n",
        "print(f\"Trip_distance - Number of outliers: {outliers_count}\")"
      ],
      "execution_count": null,
      "outputs": [
        {
          "output_type": "stream",
          "name": "stdout",
          "text": [
            "Trip_distance - Number of outliers: 22\n"
          ]
        }
      ]
    },
    {
      "cell_type": "code",
      "metadata": {
        "colab": {
          "base_uri": "https://localhost:8080/"
        },
        "id": "b3c5ee27",
        "outputId": "3ec5b64d-0234-4ab3-cce7-43000c259633"
      },
      "source": [
        "# Count outliers for Fare_amount\n",
        "mean = df['fare_amount'].mean()\n",
        "std = df['fare_amount'].std()\n",
        "lower_bound = mean - 3 * std\n",
        "upper_bound = mean + 3 * std\n",
        "outliers_count = df[(df['fare_amount'] < lower_bound) | (df['fare_amount'] > upper_bound)].shape[0]\n",
        "print(f\"Fare_amount - Number of outliers: {outliers_count}\")"
      ],
      "execution_count": null,
      "outputs": [
        {
          "output_type": "stream",
          "name": "stdout",
          "text": [
            "Fare_amount - Number of outliers: 24\n"
          ]
        }
      ]
    },
    {
      "cell_type": "code",
      "metadata": {
        "colab": {
          "base_uri": "https://localhost:8080/"
        },
        "id": "450a776f",
        "outputId": "239ca778-7255-4aad-903f-62c5e5961fad"
      },
      "source": [
        "# Count outliers for Total_amount\n",
        "mean = df['total_amount'].mean()\n",
        "std = df['total_amount'].std()\n",
        "lower_bound = mean - 3 * std\n",
        "upper_bound = mean + 3 * std\n",
        "outliers_count = df[(df['total_amount'] < lower_bound) | (df['total_amount'] > upper_bound)].shape[0]\n",
        "print(f\"Total_amount - Number of outliers: {outliers_count}\")"
      ],
      "execution_count": null,
      "outputs": [
        {
          "output_type": "stream",
          "name": "stdout",
          "text": [
            "Total_amount - Number of outliers: 22\n"
          ]
        }
      ]
    },
    {
      "cell_type": "code",
      "metadata": {
        "colab": {
          "base_uri": "https://localhost:8080/"
        },
        "id": "c03c3105",
        "outputId": "c5d4ac70-1f8a-474a-d890-0f68a97d77df"
      },
      "source": [
        "# Count outliers for Tip_amount\n",
        "mean = df['tip_amount'].mean()\n",
        "std = df['tip_amount'].std()\n",
        "lower_bound = mean - 3 * std\n",
        "upper_bound = mean + 3 * std\n",
        "outliers_count = df[(df['tip_amount'] < lower_bound) | (df['tip_amount'] > upper_bound)].shape[0]\n",
        "print(f\"Tip_amount - Number of outliers: {outliers_count}\")"
      ],
      "execution_count": null,
      "outputs": [
        {
          "output_type": "stream",
          "name": "stdout",
          "text": [
            "Tip_amount - Number of outliers: 10\n"
          ]
        }
      ]
    },
    {
      "cell_type": "code",
      "metadata": {
        "colab": {
          "base_uri": "https://localhost:8080/"
        },
        "id": "d4052aab",
        "outputId": "0f8dd448-545a-4066-e9d2-006d597569af"
      },
      "source": [
        "# Count outliers for Extra\n",
        "mean = df['extra'].mean()\n",
        "std = df['extra'].std()\n",
        "lower_bound = mean - 3 * std\n",
        "upper_bound = mean + 3 * std\n",
        "outliers_count = df[(df['extra'] < lower_bound) | (df['extra'] > upper_bound)].shape[0]\n",
        "print(f\"Extra - Number of outliers: {outliers_count}\")"
      ],
      "execution_count": null,
      "outputs": [
        {
          "output_type": "stream",
          "name": "stdout",
          "text": [
            "Extra - Number of outliers: 11\n"
          ]
        }
      ]
    },
    {
      "cell_type": "code",
      "metadata": {
        "colab": {
          "base_uri": "https://localhost:8080/",
          "height": 564
        },
        "id": "be5fd4e7",
        "outputId": "cc0f33c4-48fb-4121-e999-08fb5fd49808"
      },
      "source": [
        "import matplotlib.pyplot as plt\n",
        "\n",
        "plt.figure(figsize=(8, 6))\n",
        "sns.boxplot(x=df['passenger_count'])\n",
        "plt.title('Box Plot of Passenger Count')\n",
        "plt.ylabel('Passenger Count')\n",
        "plt.show()"
      ],
      "execution_count": null,
      "outputs": [
        {
          "output_type": "display_data",
          "data": {
            "text/plain": [
              "<Figure size 800x600 with 1 Axes>"
            ],
            "image/png": "[encoded data removed]"
          },
          "metadata": {}
        }
      ]
    },
    {
      "cell_type": "code",
      "metadata": {
        "colab": {
          "base_uri": "https://localhost:8080/",
          "height": 564
        },
        "id": "4864d092",
        "outputId": "d3a2aa46-0fba-4d55-f202-1942c8cf0e98"
      },
      "source": [
        "plt.figure(figsize=(8, 6))\n",
        "sns.boxplot(x=df['trip_distance'])\n",
        "plt.title('Box Plot of Trip Distance')\n",
        "plt.ylabel('Trip Distance')\n",
        "plt.show()"
      ],
      "execution_count": null,
      "outputs": [
        {
          "output_type": "display_data",
          "data": {
            "text/plain": [
              "<Figure size 800x600 with 1 Axes>"
            ],
            "image/png": "[encoded data removed]"
          },
          "metadata": {}
        }
      ]
    },
    {
      "cell_type": "code",
      "metadata": {
        "colab": {
          "base_uri": "https://localhost:8080/",
          "height": 564
        },
        "id": "60822d21",
        "outputId": "9ca479a3-29ab-4308-d989-79f1f7d28c98"
      },
      "source": [
        "plt.figure(figsize=(8, 6))\n",
        "sns.boxplot(x=df['fare_amount'])\n",
        "plt.title('Box Plot of Fare Amount')\n",
        "plt.ylabel('Fare Amount')\n",
        "plt.show()"
      ],
      "execution_count": null,
      "outputs": [
        {
          "output_type": "display_data",
          "data": {
            "text/plain": [
              "<Figure size 800x600 with 1 Axes>"
            ],
            "image/png": "[encoded data removed]"
          },
          "metadata": {}
        }
      ]
    },
    {
      "cell_type": "code",
      "metadata": {
        "colab": {
          "base_uri": "https://localhost:8080/",
          "height": 564
        },
        "id": "8b6a8dc6",
        "outputId": "c49c12ca-ceee-45c9-b99b-661b52624050"
      },
      "source": [
        "plt.figure(figsize=(8, 6))\n",
        "sns.boxplot(x=df['total_amount'])\n",
        "plt.title('Box Plot of Total Amount')\n",
        "plt.ylabel('Total Amount')\n",
        "plt.show()"
      ],
      "execution_count": null,
      "outputs": [
        {
          "output_type": "display_data",
          "data": {
            "text/plain": [
              "<Figure size 800x600 with 1 Axes>"
            ],
            "image/png": "[encoded data removed]"
          },
          "metadata": {}
        }
      ]
    },
    {
      "cell_type": "code",
      "metadata": {
        "colab": {
          "base_uri": "https://localhost:8080/",
          "height": 564
        },
        "id": "6b78820a",
        "outputId": "f31e3df3-d40c-4271-f1c7-b4b08ac13e3e"
      },
      "source": [
        "plt.figure(figsize=(8, 6))\n",
        "sns.boxplot(x=df['tip_amount'])\n",
        "plt.title('Box Plot of Tip Amount')\n",
        "plt.ylabel('Tip Amount')\n",
        "plt.show()"
      ],
      "execution_count": null,
      "outputs": [
        {
          "output_type": "display_data",
          "data": {
            "text/plain": [
              "<Figure size 800x600 with 1 Axes>"
            ],
            "image/png": "[encoded data removed]"
          },
          "metadata": {}
        }
      ]
    },
    {
      "cell_type": "code",
      "metadata": {
        "colab": {
          "base_uri": "https://localhost:8080/",
          "height": 564
        },
        "id": "1241fbc3",
        "outputId": "b3475e38-a27a-4763-cbbc-60088aa13ef2"
      },
      "source": [
        "plt.figure(figsize=(8, 6))\n",
        "sns.boxplot(x=df['extra'])\n",
        "plt.title('Box Plot of Extra')\n",
        "plt.ylabel('Extra')\n",
        "plt.show()"
      ],
      "execution_count": null,
      "outputs": [
        {
          "output_type": "display_data",
          "data": {
            "text/plain": [
              "<Figure size 800x600 with 1 Axes>"
            ],
            "image/png": "[encoded data removed]"
          },
          "metadata": {}
        }
      ]
    },
    {
      "cell_type": "markdown",
      "source": [],
      "metadata": {
        "id": "aqXXuHoGay4A"
      }
    },
    {
      "cell_type": "markdown",
      "metadata": {
        "id": "5481fdc0"
      },
      "source": []
    },
    {
      "cell_type": "markdown",
      "source": [
        "**Univariate Analysis: Mean, Median, Mode, Minimum, Maximum, Standard Deviation, Variance, and Kurtosis**\n",
        "\n",
        "**Passenger_count:**\n",
        "* Mean: 1.5819095477386935\n",
        "* Median: 1.0\n",
        "* Mode: \\[1.0]\n",
        "* Minimum: 0.0\n",
        "* Maximum: 6.0\n",
        "* Standard deviation: 0.911625\n",
        "* Variance: 0.831060 (calculated from std dev)\n",
        "* Kurtosis: 2.827890429140433\n",
        "* outliers=14 (4,5,6)\n",
        "* **Distribution Interpretation:** The distribution is right-skewed, with a peak at 1 passenger.\n",
        "\n",
        "**Trip_distance:**\n",
        "* Mean: 2.8904723618090453\n",
        "* Median: 1.96\n",
        "* Mode: \\[0.9, 1.1]\n",
        "* Minimum: 0.00\n",
        "* Maximum: 23.90\n",
        "* Standard deviation: 3.125268\n",
        "* Variance: 9.767375 (calculated from std dev)\n",
        "* Kurtosis: 13.975566356327981\n",
        "* outliers=22\n",
        "* **Distribution Interpretation:** The distribution is strongly right-skewed, with many short trips and fewer longer ones.\n",
        "\n",
        "**Fare_amount:**\n",
        "* Mean: 18.27859296482412\n",
        "* Median: 14.2\n",
        "* Mode: \\[6.5]\n",
        "* Minimum: -47.80\n",
        "* Maximum: 180.00\n",
        "* Standard deviation: 14.916422\n",
        "* Variance: 222.499524 (calculated from std dev)\n",
        "* Kurtosis: 20.739872581623793\n",
        "* outliers=24\n",
        "* **Distribution Interpretation:** The distribution is right-skewed, with a concentration of lower fares and a tail extending to higher fares. The negative minimum suggests potential data anomalies.\n",
        "\n",
        "**Total_amount:**\n",
        "* Mean: 26.84753768844221\n",
        "* Median: 22.2\n",
        "* Mode: \\[16.32]\n",
        "* Minimum: -52.80\n",
        "* Maximum: 217.20\n",
        "* Standard deviation: 18.092018\n",
        "* Variance: 327.315538 (calculated from std dev)\n",
        "* Kurtosis: 20.194070844679576\n",
        "* outliers=22\n",
        "* **Distribution Interpretation:** The distribution is right-skewed, similar to fare amount, with a tail extending to higher total amounts. The negative minimum suggests potential data anomalies.\n",
        "\n",
        "**Tip_amount:**\n",
        "* Mean: 3.4831457286432164\n",
        "* Median: 3.0\n",
        "* Mode: \\[0.0]\n",
        "* Minimum: 0.00\n",
        "* Maximum: 80.00\n",
        "* Standard deviation: 4.195507\n",
        "* Variance: 17.594284 (calculated from std dev)\n",
        "* Kurtosis: 115.48564563902166\n",
        "* outliers=10\n",
        "* **Distribution Interpretation:** The distribution is strongly right-skewed, with a large number of trips having no tip and a tail showing some larger tips.\n",
        "\n",
        "**Extra:**\n",
        "* Mean: 1.741457286432161\n",
        "* Median: 1.0\n",
        "* Mode: \\[1.0]\n",
        "* Minimum: -1.00\n",
        "* Maximum: 7.75\n",
        "* Standard deviation: 1.255742\n",
        "* Variance: 1.576882 (calculated from std dev)\n",
        "* Kurtosis: 0.7179873692663397\n",
        "* outliers=11\n",
        "* **Distribution Interpretation:** The distribution appears bimodal, with peaks around 1.0 and 3.5, as suggested by the histogram."
      ],
      "metadata": {
        "id": "TlE8IdVYTIxv"
      }
    },
    {
      "cell_type": "code",
      "source": [
        "df.isnull().sum() #no nulls"
      ],
      "metadata": {
        "colab": {
          "base_uri": "https://localhost:8080/",
          "height": 680
        },
        "id": "2B1KwmaVTJKe",
        "outputId": "008e6986-d4da-4a3c-d74c-32e3dba9c91d"
      },
      "execution_count": null,
      "outputs": [
        {
          "output_type": "execute_result",
          "data": {
            "text/plain": [
              "VendorID                 0\n",
              "tpep_pickup_datetime     0\n",
              "tpep_dropoff_datetime    0\n",
              "passenger_count          0\n",
              "trip_distance            0\n",
              "RatecodeID               0\n",
              "store_and_fwd_flag       0\n",
              "PULocationID             0\n",
              "DOLocationID             0\n",
              "payment_type             0\n",
              "fare_amount              0\n",
              "extra                    0\n",
              "mta_tax                  0\n",
              "tip_amount               0\n",
              "tolls_amount             0\n",
              "improvement_surcharge    0\n",
              "total_amount             0\n",
              "congestion_surcharge     0\n",
              "Airport_fee              0\n",
              "dtype: int64"
            ],
            "text/html": [
              "<div>\n",
              "<style scoped>\n",
              "    .dataframe tbody tr th:only-of-type {\n",
              "        vertical-align: middle;\n",
              "    }\n",
              "\n",
              "    .dataframe tbody tr th {\n",
              "        vertical-align: top;\n",
              "    }\n",
              "\n",
              "    .dataframe thead th {\n",
              "        text-align: right;\n",
              "    }\n",
              "</style>\n",
              "<table border=\"1\" class=\"dataframe\">\n",
              "  <thead>\n",
              "    <tr style=\"text-align: right;\">\n",
              "      <th></th>\n",
              "      <th>0</th>\n",
              "    </tr>\n",
              "  </thead>\n",
              "  <tbody>\n",
              "    <tr>\n",
              "      <th>VendorID</th>\n",
              "      <td>0</td>\n",
              "    </tr>\n",
              "    <tr>\n",
              "      <th>tpep_pickup_datetime</th>\n",
              "      <td>0</td>\n",
              "    </tr>\n",
              "    <tr>\n",
              "      <th>tpep_dropoff_datetime</th>\n",
              "      <td>0</td>\n",
              "    </tr>\n",
              "    <tr>\n",
              "      <th>passenger_count</th>\n",
              "      <td>0</td>\n",
              "    </tr>\n",
              "    <tr>\n",
              "      <th>trip_distance</th>\n",
              "      <td>0</td>\n",
              "    </tr>\n",
              "    <tr>\n",
              "      <th>RatecodeID</th>\n",
              "      <td>0</td>\n",
              "    </tr>\n",
              "    <tr>\n",
              "      <th>store_and_fwd_flag</th>\n",
              "      <td>0</td>\n",
              "    </tr>\n",
              "    <tr>\n",
              "      <th>PULocationID</th>\n",
              "      <td>0</td>\n",
              "    </tr>\n",
              "    <tr>\n",
              "      <th>DOLocationID</th>\n",
              "      <td>0</td>\n",
              "    </tr>\n",
              "    <tr>\n",
              "      <th>payment_type</th>\n",
              "      <td>0</td>\n",
              "    </tr>\n",
              "    <tr>\n",
              "      <th>fare_amount</th>\n",
              "      <td>0</td>\n",
              "    </tr>\n",
              "    <tr>\n",
              "      <th>extra</th>\n",
              "      <td>0</td>\n",
              "    </tr>\n",
              "    <tr>\n",
              "      <th>mta_tax</th>\n",
              "      <td>0</td>\n",
              "    </tr>\n",
              "    <tr>\n",
              "      <th>tip_amount</th>\n",
              "      <td>0</td>\n",
              "    </tr>\n",
              "    <tr>\n",
              "      <th>tolls_amount</th>\n",
              "      <td>0</td>\n",
              "    </tr>\n",
              "    <tr>\n",
              "      <th>improvement_surcharge</th>\n",
              "      <td>0</td>\n",
              "    </tr>\n",
              "    <tr>\n",
              "      <th>total_amount</th>\n",
              "      <td>0</td>\n",
              "    </tr>\n",
              "    <tr>\n",
              "      <th>congestion_surcharge</th>\n",
              "      <td>0</td>\n",
              "    </tr>\n",
              "    <tr>\n",
              "      <th>Airport_fee</th>\n",
              "      <td>0</td>\n",
              "    </tr>\n",
              "  </tbody>\n",
              "</table>\n",
              "</div><br><label><b>dtype:</b> int64</label>"
            ]
          },
          "metadata": {},
          "execution_count": 34
        }
      ]
    },
    {
      "cell_type": "code",
      "source": [
        "# visulaizations"
      ],
      "metadata": {
        "id": "UleASyQKTf1O"
      },
      "execution_count": null,
      "outputs": []
    },
    {
      "cell_type": "code",
      "source": [
        "df.columns"
      ],
      "metadata": {
        "colab": {
          "base_uri": "https://localhost:8080/"
        },
        "id": "ziXHgsolUCVP",
        "outputId": "46c4943f-ca7b-4a71-e37c-b67c0b8f456d"
      },
      "execution_count": null,
      "outputs": [
        {
          "output_type": "execute_result",
          "data": {
            "text/plain": [
              "Index(['VendorID', 'tpep_pickup_datetime', 'tpep_dropoff_datetime',\n",
              "       'passenger_count', 'trip_distance', 'RatecodeID', 'store_and_fwd_flag',\n",
              "       'PULocationID', 'DOLocationID', 'payment_type', 'fare_amount', 'extra',\n",
              "       'mta_tax', 'tip_amount', 'tolls_amount', 'improvement_surcharge',\n",
              "       'total_amount', 'congestion_surcharge', 'Airport_fee'],\n",
              "      dtype='object')"
            ]
          },
          "metadata": {},
          "execution_count": 36
        }
      ]
    },
    {
      "cell_type": "code",
      "source": [
        "df.head()"
      ],
      "metadata": {
        "colab": {
          "base_uri": "https://localhost:8080/",
          "height": 226
        },
        "id": "chrT7CapUIaf",
        "outputId": "7680d4ab-b66e-4847-f35b-b606e5427c7b"
      },
      "execution_count": null,
      "outputs": [
        {
          "output_type": "execute_result",
          "data": {
            "text/plain": [
              "   VendorID tpep_pickup_datetime tpep_dropoff_datetime  passenger_count  \\\n",
              "0         2  2024-01-01 00:57:55   2024-01-01 01:17:43              1.0   \n",
              "1         1  2024-01-01 00:03:00   2024-01-01 00:09:36              1.0   \n",
              "2         1  2024-01-01 00:17:06   2024-01-01 00:35:01              1.0   \n",
              "3         1  2024-01-01 00:36:38   2024-01-01 00:44:56              1.0   \n",
              "4         1  2024-01-01 00:46:51   2024-01-01 00:52:57              1.0   \n",
              "\n",
              "   trip_distance  RatecodeID store_and_fwd_flag  PULocationID  DOLocationID  \\\n",
              "0           1.72         1.0                  N           186            79   \n",
              "1           1.80         1.0                  N           140           236   \n",
              "2           4.70         1.0                  N           236            79   \n",
              "3           1.40         1.0                  N            79           211   \n",
              "4           0.80         1.0                  N           211           148   \n",
              "\n",
              "   payment_type  fare_amount  extra  mta_tax  tip_amount  tolls_amount  \\\n",
              "0             2         17.7    1.0      0.5        0.00           0.0   \n",
              "1             1         10.0    3.5      0.5        3.75           0.0   \n",
              "2             1         23.3    3.5      0.5        3.00           0.0   \n",
              "3             1         10.0    3.5      0.5        2.00           0.0   \n",
              "4             1          7.9    3.5      0.5        3.20           0.0   \n",
              "\n",
              "   improvement_surcharge  total_amount  congestion_surcharge  Airport_fee  \n",
              "0                    1.0         22.70                   2.5          0.0  \n",
              "1                    1.0         18.75                   2.5          0.0  \n",
              "2                    1.0         31.30                   2.5          0.0  \n",
              "3                    1.0         17.00                   2.5          0.0  \n",
              "4                    1.0         16.10                   2.5          0.0  "
            ],
            "text/html": [
              "\n",
              "  <div id=\"df-4a04b6bc-d30e-4f47-8be9-4faba6cc3373\" class=\"colab-df-container\">\n",
              "    <div>\n",
              "<style scoped>\n",
              "    .dataframe tbody tr th:only-of-type {\n",
              "        vertical-align: middle;\n",
              "    }\n",
              "\n",
              "    .dataframe tbody tr th {\n",
              "        vertical-align: top;\n",
              "    }\n",
              "\n",
              "    .dataframe thead th {\n",
              "        text-align: right;\n",
              "    }\n",
              "</style>\n",
              "<table border=\"1\" class=\"dataframe\">\n",
              "  <thead>\n",
              "    <tr style=\"text-align: right;\">\n",
              "      <th></th>\n",
              "      <th>VendorID</th>\n",
              "      <th>tpep_pickup_datetime</th>\n",
              "      <th>tpep_dropoff_datetime</th>\n",
              "      <th>passenger_count</th>\n",
              "      <th>trip_distance</th>\n",
              "      <th>RatecodeID</th>\n",
              "      <th>store_and_fwd_flag</th>\n",
              "      <th>PULocationID</th>\n",
              "      <th>DOLocationID</th>\n",
              "      <th>payment_type</th>\n",
              "      <th>fare_amount</th>\n",
              "      <th>extra</th>\n",
              "      <th>mta_tax</th>\n",
              "      <th>tip_amount</th>\n",
              "      <th>tolls_amount</th>\n",
              "      <th>improvement_surcharge</th>\n",
              "      <th>total_amount</th>\n",
              "      <th>congestion_surcharge</th>\n",
              "      <th>Airport_fee</th>\n",
              "    </tr>\n",
              "  </thead>\n",
              "  <tbody>\n",
              "    <tr>\n",
              "      <th>0</th>\n",
              "      <td>2</td>\n",
              "      <td>2024-01-01 00:57:55</td>\n",
              "      <td>2024-01-01 01:17:43</td>\n",
              "      <td>1.0</td>\n",
              "      <td>1.72</td>\n",
              "      <td>1.0</td>\n",
              "      <td>N</td>\n",
              "      <td>186</td>\n",
              "      <td>79</td>\n",
              "      <td>2</td>\n",
              "      <td>17.7</td>\n",
              "      <td>1.0</td>\n",
              "      <td>0.5</td>\n",
              "      <td>0.00</td>\n",
              "      <td>0.0</td>\n",
              "      <td>1.0</td>\n",
              "      <td>22.70</td>\n",
              "      <td>2.5</td>\n",
              "      <td>0.0</td>\n",
              "    </tr>\n",
              "    <tr>\n",
              "      <th>1</th>\n",
              "      <td>1</td>\n",
              "      <td>2024-01-01 00:03:00</td>\n",
              "      <td>2024-01-01 00:09:36</td>\n",
              "      <td>1.0</td>\n",
              "      <td>1.80</td>\n",
              "      <td>1.0</td>\n",
              "      <td>N</td>\n",
              "      <td>140</td>\n",
              "      <td>236</td>\n",
              "      <td>1</td>\n",
              "      <td>10.0</td>\n",
              "      <td>3.5</td>\n",
              "      <td>0.5</td>\n",
              "      <td>3.75</td>\n",
              "      <td>0.0</td>\n",
              "      <td>1.0</td>\n",
              "      <td>18.75</td>\n",
              "      <td>2.5</td>\n",
              "      <td>0.0</td>\n",
              "    </tr>\n",
              "    <tr>\n",
              "      <th>2</th>\n",
              "      <td>1</td>\n",
              "      <td>2024-01-01 00:17:06</td>\n",
              "      <td>2024-01-01 00:35:01</td>\n",
              "      <td>1.0</td>\n",
              "      <td>4.70</td>\n",
              "      <td>1.0</td>\n",
              "      <td>N</td>\n",
              "      <td>236</td>\n",
              "      <td>79</td>\n",
              "      <td>1</td>\n",
              "      <td>23.3</td>\n",
              "      <td>3.5</td>\n",
              "      <td>0.5</td>\n",
              "      <td>3.00</td>\n",
              "      <td>0.0</td>\n",
              "      <td>1.0</td>\n",
              "      <td>31.30</td>\n",
              "      <td>2.5</td>\n",
              "      <td>0.0</td>\n",
              "    </tr>\n",
              "    <tr>\n",
              "      <th>3</th>\n",
              "      <td>1</td>\n",
              "      <td>2024-01-01 00:36:38</td>\n",
              "      <td>2024-01-01 00:44:56</td>\n",
              "      <td>1.0</td>\n",
              "      <td>1.40</td>\n",
              "      <td>1.0</td>\n",
              "      <td>N</td>\n",
              "      <td>79</td>\n",
              "      <td>211</td>\n",
              "      <td>1</td>\n",
              "      <td>10.0</td>\n",
              "      <td>3.5</td>\n",
              "      <td>0.5</td>\n",
              "      <td>2.00</td>\n",
              "      <td>0.0</td>\n",
              "      <td>1.0</td>\n",
              "      <td>17.00</td>\n",
              "      <td>2.5</td>\n",
              "      <td>0.0</td>\n",
              "    </tr>\n",
              "    <tr>\n",
              "      <th>4</th>\n",
              "      <td>1</td>\n",
              "      <td>2024-01-01 00:46:51</td>\n",
              "      <td>2024-01-01 00:52:57</td>\n",
              "      <td>1.0</td>\n",
              "      <td>0.80</td>\n",
              "      <td>1.0</td>\n",
              "      <td>N</td>\n",
              "      <td>211</td>\n",
              "      <td>148</td>\n",
              "      <td>1</td>\n",
              "      <td>7.9</td>\n",
              "      <td>3.5</td>\n",
              "      <td>0.5</td>\n",
              "      <td>3.20</td>\n",
              "      <td>0.0</td>\n",
              "      <td>1.0</td>\n",
              "      <td>16.10</td>\n",
              "      <td>2.5</td>\n",
              "      <td>0.0</td>\n",
              "    </tr>\n",
              "  </tbody>\n",
              "</table>\n",
              "</div>\n",
              "    <div class=\"colab-df-buttons\">\n",
              "\n",
              "  <div class=\"colab-df-container\">\n",
              "    <button class=\"colab-df-convert\" onclick=\"convertToInteractive('df-4a04b6bc-d30e-4f47-8be9-4faba6cc3373')\"\n",
              "            title=\"Convert this dataframe to an interactive table.\"\n",
              "            style=\"display:none;\">\n",
              "\n",
              "  <svg xmlns=\"http://www.w3.org/2000/svg\" height=\"24px\" viewBox=\"0 -960 960 960\">\n",
              "    <path d=\"M120-120v-720h720v720H120Zm60-500h600v-160H180v160Zm220 220h160v-160H400v160Zm0 220h160v-160H400v160ZM180-400h160v-160H180v160Zm440 0h160v-160H620v160ZM180-180h160v-160H180v160Zm440 0h160v-160H620v160Z\"/>\n",
              "  </svg>\n",
              "    </button>\n",
              "\n",
              "  <style>\n",
              "    .colab-df-container {\n",
              "      display:flex;\n",
              "      gap: 12px;\n",
              "    }\n",
              "\n",
              "    .colab-df-convert {\n",
              "      background-color: #E8F0FE;\n",
              "      border: none;\n",
              "      border-radius: 50%;\n",
              "      cursor: pointer;\n",
              "      display: none;\n",
              "      fill: #1967D2;\n",
              "      height: 32px;\n",
              "      padding: 0 0 0 0;\n",
              "      width: 32px;\n",
              "    }\n",
              "\n",
              "    .colab-df-convert:hover {\n",
              "      background-color: #E2EBFA;\n",
              "      box-shadow: 0px 1px 2px rgba(60, 64, 67, 0.3), 0px 1px 3px 1px rgba(60, 64, 67, 0.15);\n",
              "      fill: #174EA6;\n",
              "    }\n",
              "\n",
              "    .colab-df-buttons div {\n",
              "      margin-bottom: 4px;\n",
              "    }\n",
              "\n",
              "    [theme=dark] .colab-df-convert {\n",
              "      background-color: #3B4455;\n",
              "      fill: #D2E3FC;\n",
              "    }\n",
              "\n",
              "    [theme=dark] .colab-df-convert:hover {\n",
              "      background-color: #434B5C;\n",
              "      box-shadow: 0px 1px 3px 1px rgba(0, 0, 0, 0.15);\n",
              "      filter: drop-shadow(0px 1px 2px rgba(0, 0, 0, 0.3));\n",
              "      fill: #FFFFFF;\n",
              "    }\n",
              "  </style>\n",
              "\n",
              "    <script>\n",
              "      const buttonEl =\n",
              "        document.querySelector('#df-4a04b6bc-d30e-4f47-8be9-4faba6cc3373 button.colab-df-convert');\n",
              "      buttonEl.style.display =\n",
              "        google.colab.kernel.accessAllowed ? 'block' : 'none';\n",
              "\n",
              "      async function convertToInteractive(key) {\n",
              "        const element = document.querySelector('#df-4a04b6bc-d30e-4f47-8be9-4faba6cc3373');\n",
              "        const dataTable =\n",
              "          await google.colab.kernel.invokeFunction('convertToInteractive',\n",
              "                                                    [key], {});\n",
              "        if (!dataTable) return;\n",
              "\n",
              "        const docLinkHtml = 'Like what you see? Visit the ' +\n",
              "          '<a target=\"_blank\" href=https://colab.research.google.com/notebooks/data_table.ipynb>data table notebook</a>'\n",
              "          + ' to learn more about interactive tables.';\n",
              "        element.innerHTML = '';\n",
              "        dataTable['output_type'] = 'display_data';\n",
              "        await google.colab.output.renderOutput(dataTable, element);\n",
              "        const docLink = document.createElement('div');\n",
              "        docLink.innerHTML = docLinkHtml;\n",
              "        element.appendChild(docLink);\n",
              "      }\n",
              "    </script>\n",
              "  </div>\n",
              "\n",
              "\n",
              "    <div id=\"df-aaa2e905-b1ae-4f83-b5a7-af8abdaa5c97\">\n",
              "      <button class=\"colab-df-quickchart\" onclick=\"quickchart('df-aaa2e905-b1ae-4f83-b5a7-af8abdaa5c97')\"\n",
              "                title=\"Suggest charts\"\n",
              "                style=\"display:none;\">\n",
              "\n",
              "<svg xmlns=\"http://www.w3.org/2000/svg\" height=\"24px\"viewBox=\"0 0 24 24\"\n",
              "     width=\"24px\">\n",
              "    <g>\n",
              "        <path d=\"M19 3H5c-1.1 0-2 .9-2 2v14c0 1.1.9 2 2 2h14c1.1 0 2-.9 2-2V5c0-1.1-.9-2-2-2zM9 17H7v-7h2v7zm4 0h-2V7h2v10zm4 0h-2v-4h2v4z\"/>\n",
              "    </g>\n",
              "</svg>\n",
              "      </button>\n",
              "\n",
              "<style>\n",
              "  .colab-df-quickchart {\n",
              "      --bg-color: #E8F0FE;\n",
              "      --fill-color: #1967D2;\n",
              "      --hover-bg-color: #E2EBFA;\n",
              "      --hover-fill-color: #174EA6;\n",
              "      --disabled-fill-color: #AAA;\n",
              "      --disabled-bg-color: #DDD;\n",
              "  }\n",
              "\n",
              "  [theme=dark] .colab-df-quickchart {\n",
              "      --bg-color: #3B4455;\n",
              "      --fill-color: #D2E3FC;\n",
              "      --hover-bg-color: #434B5C;\n",
              "      --hover-fill-color: #FFFFFF;\n",
              "      --disabled-bg-color: #3B4455;\n",
              "      --disabled-fill-color: #666;\n",
              "  }\n",
              "\n",
              "  .colab-df-quickchart {\n",
              "    background-color: var(--bg-color);\n",
              "    border: none;\n",
              "    border-radius: 50%;\n",
              "    cursor: pointer;\n",
              "    display: none;\n",
              "    fill: var(--fill-color);\n",
              "    height: 32px;\n",
              "    padding: 0;\n",
              "    width: 32px;\n",
              "  }\n",
              "\n",
              "  .colab-df-quickchart:hover {\n",
              "    background-color: var(--hover-bg-color);\n",
              "    box-shadow: 0 1px 2px rgba(60, 64, 67, 0.3), 0 1px 3px 1px rgba(60, 64, 67, 0.15);\n",
              "    fill: var(--button-hover-fill-color);\n",
              "  }\n",
              "\n",
              "  .colab-df-quickchart-complete:disabled,\n",
              "  .colab-df-quickchart-complete:disabled:hover {\n",
              "    background-color: var(--disabled-bg-color);\n",
              "    fill: var(--disabled-fill-color);\n",
              "    box-shadow: none;\n",
              "  }\n",
              "\n",
              "  .colab-df-spinner {\n",
              "    border: 2px solid var(--fill-color);\n",
              "    border-color: transparent;\n",
              "    border-bottom-color: var(--fill-color);\n",
              "    animation:\n",
              "      spin 1s steps(1) infinite;\n",
              "  }\n",
              "\n",
              "  @keyframes spin {\n",
              "    0% {\n",
              "      border-color: transparent;\n",
              "      border-bottom-color: var(--fill-color);\n",
              "      border-left-color: var(--fill-color);\n",
              "    }\n",
              "    20% {\n",
              "      border-color: transparent;\n",
              "      border-left-color: var(--fill-color);\n",
              "      border-top-color: var(--fill-color);\n",
              "    }\n",
              "    30% {\n",
              "      border-color: transparent;\n",
              "      border-left-color: var(--fill-color);\n",
              "      border-top-color: var(--fill-color);\n",
              "      border-right-color: var(--fill-color);\n",
              "    }\n",
              "    40% {\n",
              "      border-color: transparent;\n",
              "      border-right-color: var(--fill-color);\n",
              "      border-top-color: var(--fill-color);\n",
              "    }\n",
              "    60% {\n",
              "      border-color: transparent;\n",
              "      border-right-color: var(--fill-color);\n",
              "    }\n",
              "    80% {\n",
              "      border-color: transparent;\n",
              "      border-right-color: var(--fill-color);\n",
              "      border-bottom-color: var(--fill-color);\n",
              "    }\n",
              "    90% {\n",
              "      border-color: transparent;\n",
              "      border-bottom-color: var(--fill-color);\n",
              "    }\n",
              "  }\n",
              "</style>\n",
              "\n",
              "      <script>\n",
              "        async function quickchart(key) {\n",
              "          const quickchartButtonEl =\n",
              "            document.querySelector('#' + key + ' button');\n",
              "          quickchartButtonEl.disabled = true;  // To prevent multiple clicks.\n",
              "          quickchartButtonEl.classList.add('colab-df-spinner');\n",
              "          try {\n",
              "            const charts = await google.colab.kernel.invokeFunction(\n",
              "                'suggestCharts', [key], {});\n",
              "          } catch (error) {\n",
              "            console.error('Error during call to suggestCharts:', error);\n",
              "          }\n",
              "          quickchartButtonEl.classList.remove('colab-df-spinner');\n",
              "          quickchartButtonEl.classList.add('colab-df-quickchart-complete');\n",
              "        }\n",
              "        (() => {\n",
              "          let quickchartButtonEl =\n",
              "            document.querySelector('#df-aaa2e905-b1ae-4f83-b5a7-af8abdaa5c97 button');\n",
              "          quickchartButtonEl.style.display =\n",
              "            google.colab.kernel.accessAllowed ? 'block' : 'none';\n",
              "        })();\n",
              "      </script>\n",
              "    </div>\n",
              "\n",
              "    </div>\n",
              "  </div>\n"
            ],
            "application/vnd.google.colaboratory.intrinsic+json": {
              "type": "dataframe",
              "variable_name": "df",
              "summary": "{\n  \"name\": \"df\",\n  \"rows\": 995,\n  \"fields\": [\n    {\n      \"column\": \"VendorID\",\n      \"properties\": {\n        \"dtype\": \"number\",\n        \"std\": 0,\n        \"min\": 1,\n        \"max\": 2,\n        \"num_unique_values\": 2,\n        \"samples\": [\n          1,\n          2\n        ],\n        \"semantic_type\": \"\",\n        \"description\": \"\"\n      }\n    },\n    {\n      \"column\": \"tpep_pickup_datetime\",\n      \"properties\": {\n        \"dtype\": \"object\",\n        \"num_unique_values\": 861,\n        \"samples\": [\n          \"2024-01-01 00:37:53\",\n          \"2024-01-01 00:52:10\"\n        ],\n        \"semantic_type\": \"\",\n        \"description\": \"\"\n      }\n    },\n    {\n      \"column\": \"tpep_dropoff_datetime\",\n      \"properties\": {\n        \"dtype\": \"object\",\n        \"num_unique_values\": 892,\n        \"samples\": [\n          \"2024-01-01 00:49:27\",\n          \"2024-01-01 00:46:31\"\n        ],\n        \"semantic_type\": \"\",\n        \"description\": \"\"\n      }\n    },\n    {\n      \"column\": \"passenger_count\",\n      \"properties\": {\n        \"dtype\": \"number\",\n        \"std\": 0.9116253266978451,\n        \"min\": 0.0,\n        \"max\": 6.0,\n        \"num_unique_values\": 7,\n        \"samples\": [\n          1.0,\n          2.0\n        ],\n        \"semantic_type\": \"\",\n        \"description\": \"\"\n      }\n    },\n    {\n      \"column\": \"trip_distance\",\n      \"properties\": {\n        \"dtype\": \"number\",\n        \"std\": 3.125267807919388,\n        \"min\": 0.0,\n        \"max\": 23.9,\n        \"num_unique_values\": 444,\n        \"samples\": [\n          3.63,\n          1.36\n        ],\n        \"semantic_type\": \"\",\n        \"description\": \"\"\n      }\n    },\n    {\n      \"column\": \"RatecodeID\",\n      \"properties\": {\n        \"dtype\": \"number\",\n        \"std\": 3.1262599555001818,\n        \"min\": 1.0,\n        \"max\": 99.0,\n        \"num_unique_values\": 5,\n        \"samples\": [\n          5.0,\n          99.0\n        ],\n        \"semantic_type\": \"\",\n        \"description\": \"\"\n      }\n    },\n    {\n      \"column\": \"store_and_fwd_flag\",\n      \"properties\": {\n        \"dtype\": \"category\",\n        \"num_unique_values\": 2,\n        \"samples\": [\n          \"Y\",\n          \"N\"\n        ],\n        \"semantic_type\": \"\",\n        \"description\": \"\"\n      }\n    },\n    {\n      \"column\": \"PULocationID\",\n      \"properties\": {\n        \"dtype\": \"number\",\n        \"std\": 67,\n        \"min\": 4,\n        \"max\": 265,\n        \"num_unique_values\": 66,\n        \"samples\": [\n          224,\n          12\n        ],\n        \"semantic_type\": \"\",\n        \"description\": \"\"\n      }\n    },\n    {\n      \"column\": \"DOLocationID\",\n      \"properties\": {\n        \"dtype\": \"number\",\n        \"std\": 73,\n        \"min\": 4,\n        \"max\": 265,\n        \"num_unique_values\": 114,\n        \"samples\": [\n          69,\n          141\n        ],\n        \"semantic_type\": \"\",\n        \"description\": \"\"\n      }\n    },\n    {\n      \"column\": \"payment_type\",\n      \"properties\": {\n        \"dtype\": \"number\",\n        \"std\": 0,\n        \"min\": 1,\n        \"max\": 4,\n        \"num_unique_values\": 3,\n        \"samples\": [\n          2,\n          1\n        ],\n        \"semantic_type\": \"\",\n        \"description\": \"\"\n      }\n    },\n    {\n      \"column\": \"fare_amount\",\n      \"properties\": {\n        \"dtype\": \"number\",\n        \"std\": 14.916422223234436,\n        \"min\": -47.8,\n        \"max\": 180.0,\n        \"num_unique_values\": 95,\n        \"samples\": [\n          26.1,\n          44.3\n        ],\n        \"semantic_type\": \"\",\n        \"description\": \"\"\n      }\n    },\n    {\n      \"column\": \"extra\",\n      \"properties\": {\n        \"dtype\": \"number\",\n        \"std\": 1.2557422981050455,\n        \"min\": -1.0,\n        \"max\": 7.75,\n        \"num_unique_values\": 9,\n        \"samples\": [\n          7.75,\n          3.5\n        ],\n        \"semantic_type\": \"\",\n        \"description\": \"\"\n      }\n    },\n    {\n      \"column\": \"mta_tax\",\n      \"properties\": {\n        \"dtype\": \"number\",\n        \"std\": 0.07727552935165967,\n        \"min\": -0.5,\n        \"max\": 0.5,\n        \"num_unique_values\": 3,\n        \"samples\": [\n          0.5,\n          0.0\n        ],\n        \"semantic_type\": \"\",\n        \"description\": \"\"\n      }\n    },\n    {\n      \"column\": \"tip_amount\",\n      \"properties\": {\n        \"dtype\": \"number\",\n        \"std\": 4.195506992895371,\n        \"min\": 0.0,\n        \"max\": 80.0,\n        \"num_unique_values\": 237,\n        \"samples\": [\n          4.25,\n          7.92\n        ],\n        \"semantic_type\": \"\",\n        \"description\": \"\"\n      }\n    },\n    {\n      \"column\": \"tolls_amount\",\n      \"properties\": {\n        \"dtype\": \"number\",\n        \"std\": 1.1809067673191969,\n        \"min\": 0.0,\n        \"max\": 12.75,\n        \"num_unique_values\": 4,\n        \"samples\": [\n          6.94,\n          3.18\n        ],\n        \"semantic_type\": \"\",\n        \"description\": \"\"\n      }\n    },\n    {\n      \"column\": \"improvement_surcharge\",\n      \"properties\": {\n        \"dtype\": \"number\",\n        \"std\": 0.14492901183207998,\n        \"min\": -1.0,\n        \"max\": 1.0,\n        \"num_unique_values\": 3,\n        \"samples\": [\n          1.0,\n          -1.0\n        ],\n        \"semantic_type\": \"\",\n        \"description\": \"\"\n      }\n    },\n    {\n      \"column\": \"total_amount\",\n      \"properties\": {\n        \"dtype\": \"number\",\n        \"std\": 18.09201780111972,\n        \"min\": -52.8,\n        \"max\": 217.2,\n        \"num_unique_values\": 423,\n        \"samples\": [\n          23.9,\n          -34.25\n        ],\n        \"semantic_type\": \"\",\n        \"description\": \"\"\n      }\n    },\n    {\n      \"column\": \"congestion_surcharge\",\n      \"properties\": {\n        \"dtype\": \"number\",\n        \"std\": 0.6738461492825705,\n        \"min\": -2.5,\n        \"max\": 2.5,\n        \"num_unique_values\": 3,\n        \"samples\": [\n          2.5,\n          0.0\n        ],\n        \"semantic_type\": \"\",\n        \"description\": \"\"\n      }\n    },\n    {\n      \"column\": \"Airport_fee\",\n      \"properties\": {\n        \"dtype\": \"number\",\n        \"std\": 0.30952338823532777,\n        \"min\": -1.75,\n        \"max\": 1.75,\n        \"num_unique_values\": 3,\n        \"samples\": [\n          0.0,\n          1.75\n        ],\n        \"semantic_type\": \"\",\n        \"description\": \"\"\n      }\n    }\n  ]\n}"
            }
          },
          "metadata": {},
          "execution_count": 37
        }
      ]
    },
    {
      "cell_type": "code",
      "source": [
        "df['store_and_fwd_flag'].unique()"
      ],
      "metadata": {
        "colab": {
          "base_uri": "https://localhost:8080/"
        },
        "id": "cOz6gOofUS4n",
        "outputId": "0763c512-baf8-48e0-f07f-e3cfba32afce"
      },
      "execution_count": null,
      "outputs": [
        {
          "output_type": "execute_result",
          "data": {
            "text/plain": [
              "array(['N', 'Y'], dtype=object)"
            ]
          },
          "metadata": {},
          "execution_count": 38
        }
      ]
    },
    {
      "cell_type": "code",
      "source": [
        "df['VendorID'].unique()"
      ],
      "metadata": {
        "colab": {
          "base_uri": "https://localhost:8080/"
        },
        "id": "z1_5KurxUWi_",
        "outputId": "afa55249-a96f-4a10-f6f8-91fd101c1718"
      },
      "execution_count": null,
      "outputs": [
        {
          "output_type": "execute_result",
          "data": {
            "text/plain": [
              "array([2, 1])"
            ]
          },
          "metadata": {},
          "execution_count": 39
        }
      ]
    },
    {
      "cell_type": "code",
      "source": [],
      "metadata": {
        "id": "5-RaznPpVULv"
      },
      "execution_count": null,
      "outputs": []
    },
    {
      "cell_type": "code",
      "metadata": {
        "colab": {
          "base_uri": "https://localhost:8080/",
          "height": 592
        },
        "id": "32fe8cf0",
        "outputId": "78041510-e9ef-4ba1-dee5-23e61f7d196a"
      },
      "source": [
        "import matplotlib.pyplot as plt\n",
        "\n",
        "# Pie chart for VendorID\n",
        "vendor_counts = df['VendorID'].value_counts()\n",
        "plt.figure(figsize=(12, 6))\n",
        "plt.subplot(1, 2, 1) # 1 row, 2 columns, 1st plot\n",
        "plt.pie(vendor_counts, labels=vendor_counts.index, autopct='%1.1f%%', startangle=90)\n",
        "plt.title('Distribution of VendorID')\n",
        "\n",
        "# Pie chart for store_and_fwd_flag\n",
        "flag_counts = df['store_and_fwd_flag'].value_counts()\n",
        "plt.subplot(1, 2, 2) # 1 row, 2 columns, 2nd plot\n",
        "plt.pie(flag_counts, labels=flag_counts.index, autopct='%1.1f%%', startangle=90)\n",
        "plt.title('Distribution of store_and_fwd_flag')\n",
        "\n",
        "plt.tight_layout()\n",
        "plt.show()"
      ],
      "execution_count": null,
      "outputs": [
        {
          "output_type": "display_data",
          "data": {
            "text/plain": [
              "<Figure size 1200x600 with 2 Axes>"
            ],
            "image/png": "[encoded data removed]"
          },
          "metadata": {}
        }
      ]
    },
    {
      "cell_type": "markdown",
      "metadata": {
        "id": "43cef468"
      },
      "source": [
        "**Interpretation of Pie Charts:**\n",
        "\n",
        "**Distribution of VendorID:**\n",
        "The pie chart shows that VendorID 2 accounts for the majority of the trips (70.4%), while VendorID 1 accounts for the remaining 29.6%.\n",
        "\n",
        "**Distribution of store_and_fwd_flag:**\n",
        "The pie chart indicates that almost all trips (99.8%) have the 'store_and_fwd_flag' set to 'N', while only a very small percentage (0.2%) have it set to 'Y'. This suggests that most trip records were not stored and forwarded."
      ]
    },
    {
      "cell_type": "code",
      "source": [],
      "metadata": {
        "id": "T7bd9xL1V8Yv"
      },
      "execution_count": null,
      "outputs": []
    },
    {
      "cell_type": "code",
      "metadata": {
        "colab": {
          "base_uri": "https://localhost:8080/",
          "height": 579
        },
        "id": "ceb630d7",
        "outputId": "66b0ab8b-2b07-4764-9d04-1e93ce852290"
      },
      "source": [
        "import matplotlib.pyplot as plt\n",
        "import seaborn as sns\n",
        "\n",
        "# Get value counts for payment_type\n",
        "payment_counts = df['payment_type'].value_counts()\n",
        "\n",
        "plt.figure(figsize=(12, 6))\n",
        "\n",
        "# Pie chart for payment_type\n",
        "plt.subplot(1, 2, 1) # 1 row, 2 columns, 1st plot\n",
        "plt.pie(payment_counts, labels=payment_counts.index, autopct='%1.1f%%', startangle=90)\n",
        "plt.title('Distribution of Payment Type (Pie Chart)')\n",
        "\n",
        "# Bar plot for payment_type\n",
        "plt.subplot(1, 2, 2) # 1 row, 2 columns, 2nd plot\n",
        "sns.countplot(x='payment_type', data=df, order=payment_counts.index)\n",
        "plt.title('Distribution of Payment Type (Bar Plot)')\n",
        "plt.xlabel('Payment Type')\n",
        "plt.ylabel('Count')\n",
        "\n",
        "plt.tight_layout()\n",
        "plt.show()"
      ],
      "execution_count": null,
      "outputs": [
        {
          "output_type": "display_data",
          "data": {
            "text/plain": [
              "<Figure size 1200x600 with 2 Axes>"
            ],
            "image/png": "[encoded data removed]"
          },
          "metadata": {}
        }
      ]
    },
    {
      "cell_type": "markdown",
      "metadata": {
        "id": "0e07d442"
      },
      "source": [
        "**Interpretation of Payment Type Visualizations:**\n",
        "\n",
        "[Interpretation will be added after the plots are generated]"
      ]
    },
    {
      "cell_type": "markdown",
      "metadata": {
        "id": "e587c3d5"
      },
      "source": [
        "**Interpretation of Payment Type Visualizations:**\n",
        "\n",
        "The pie chart and bar plot both show the distribution of payment types. Payment type 1 is the most frequent, accounting for 79.2% of the trips. Payment type 2 is the second most frequent at 19.8%, and payment type 4 is the least frequent at 1.0%."
      ]
    },
    {
      "cell_type": "code",
      "metadata": {
        "colab": {
          "base_uri": "https://localhost:8080/",
          "height": 564
        },
        "id": "d6c2e071",
        "outputId": "1636f9e9-c8e2-44b2-b613-6fd1ad663101"
      },
      "source": [
        "import matplotlib.pyplot as plt\n",
        "import seaborn as sns\n",
        "\n",
        "plt.figure(figsize=(8, 6))\n",
        "sns.violinplot(x=df['trip_distance'])\n",
        "plt.title('Violin Plot of Trip Distance')\n",
        "plt.xlabel('Trip Distance')\n",
        "plt.show()"
      ],
      "execution_count": null,
      "outputs": [
        {
          "output_type": "display_data",
          "data": {
            "text/plain": [
              "<Figure size 800x600 with 1 Axes>"
            ],
            "image/png": "[encoded data removed]"
          },
          "metadata": {}
        }
      ]
    },
    {
      "cell_type": "code",
      "metadata": {
        "colab": {
          "base_uri": "https://localhost:8080/",
          "height": 564
        },
        "id": "f8402428",
        "outputId": "69de0247-a855-439b-d38b-9c1283013aa4"
      },
      "source": [
        "import matplotlib.pyplot as plt\n",
        "import seaborn as sns\n",
        "\n",
        "plt.figure(figsize=(10, 6))\n",
        "sns.scatterplot(x='trip_distance', y='passenger_count', data=df)\n",
        "plt.title('Passenger Count vs Trip Distance')\n",
        "plt.xlabel('Trip Distance')\n",
        "plt.ylabel('Passenger Count')\n",
        "plt.show()"
      ],
      "execution_count": null,
      "outputs": [
        {
          "output_type": "display_data",
          "data": {
            "text/plain": [
              "<Figure size 1000x600 with 1 Axes>"
            ],
            "image/png": "[encoded data removed]"
          },
          "metadata": {}
        }
      ]
    },
    {
      "cell_type": "code",
      "source": [],
      "metadata": {
        "id": "2ii_MAcsXaN_"
      },
      "execution_count": null,
      "outputs": []
    },
    {
      "cell_type": "markdown",
      "source": [
        "**Part B: Inferential Statistics **"
      ],
      "metadata": {
        "id": "-ObNBcZLaHOA"
      }
    },
    {
      "cell_type": "code",
      "source": [
        "# 1. Confidence Intervals\n",
        "# Estimate a 95% confidence interval for:\n",
        "# • Mean trip distance\n",
        "# • Mean fare amount\n",
        "# • Mean tip amount\n",
        "\n",
        "df.describe()"
      ],
      "metadata": {
        "colab": {
          "base_uri": "https://localhost:8080/",
          "height": 320
        },
        "id": "4iop767naIY4",
        "outputId": "854efda7-c291-4334-fa68-46501870cb48"
      },
      "execution_count": null,
      "outputs": [
        {
          "output_type": "execute_result",
          "data": {
            "text/plain": [
              "         VendorID  passenger_count  trip_distance  RatecodeID  PULocationID  \\\n",
              "count  995.000000       995.000000     995.000000  995.000000    995.000000   \n",
              "mean     1.703518         1.581910       2.890472    1.138693    165.323618   \n",
              "std      0.456936         0.911625       3.125268    3.126260     67.808656   \n",
              "min      1.000000         0.000000       0.000000    1.000000      4.000000   \n",
              "25%      1.000000         1.000000       1.125000    1.000000    114.000000   \n",
              "50%      2.000000         1.000000       1.960000    1.000000    161.000000   \n",
              "75%      2.000000         2.000000       3.400000    1.000000    236.000000   \n",
              "max      2.000000         6.000000      23.900000   99.000000    265.000000   \n",
              "\n",
              "       DOLocationID  payment_type  fare_amount       extra     mta_tax  \\\n",
              "count    995.000000    995.000000   995.000000  995.000000  995.000000   \n",
              "mean     163.204020      1.228141    18.278593    1.741457    0.491960   \n",
              "std       73.059288      0.486448    14.916422    1.255742    0.077276   \n",
              "min        4.000000      1.000000   -47.800000   -1.000000   -0.500000   \n",
              "25%      107.000000      1.000000     9.300000    1.000000    0.500000   \n",
              "50%      162.000000      1.000000    14.200000    1.000000    0.500000   \n",
              "75%      236.000000      1.000000    22.600000    3.500000    0.500000   \n",
              "max      265.000000      4.000000   180.000000    7.750000    0.500000   \n",
              "\n",
              "       tip_amount  tolls_amount  improvement_surcharge  total_amount  \\\n",
              "count  995.000000    995.000000             995.000000    995.000000   \n",
              "mean     3.483146      0.197357               0.988945     26.847538   \n",
              "std      4.195507      1.180907               0.144929     18.092018   \n",
              "min      0.000000      0.000000              -1.000000    -52.800000   \n",
              "25%      0.000000      0.000000               1.000000     16.320000   \n",
              "50%      3.000000      0.000000               1.000000     22.200000   \n",
              "75%      4.820000      0.000000               1.000000     31.770000   \n",
              "max     80.000000     12.750000               1.000000    217.200000   \n",
              "\n",
              "       congestion_surcharge  Airport_fee  \n",
              "count            995.000000   995.000000  \n",
              "mean               2.326633     0.052764  \n",
              "std                0.673846     0.309523  \n",
              "min               -2.500000    -1.750000  \n",
              "25%                2.500000     0.000000  \n",
              "50%                2.500000     0.000000  \n",
              "75%                2.500000     0.000000  \n",
              "max                2.500000     1.750000  "
            ],
            "text/html": [
              "\n",
              "  <div id=\"df-7c55368e-820e-4841-b840-80eb39584b2a\" class=\"colab-df-container\">\n",
              "    <div>\n",
              "<style scoped>\n",
              "    .dataframe tbody tr th:only-of-type {\n",
              "        vertical-align: middle;\n",
              "    }\n",
              "\n",
              "    .dataframe tbody tr th {\n",
              "        vertical-align: top;\n",
              "    }\n",
              "\n",
              "    .dataframe thead th {\n",
              "        text-align: right;\n",
              "    }\n",
              "</style>\n",
              "<table border=\"1\" class=\"dataframe\">\n",
              "  <thead>\n",
              "    <tr style=\"text-align: right;\">\n",
              "      <th></th>\n",
              "      <th>VendorID</th>\n",
              "      <th>passenger_count</th>\n",
              "      <th>trip_distance</th>\n",
              "      <th>RatecodeID</th>\n",
              "      <th>PULocationID</th>\n",
              "      <th>DOLocationID</th>\n",
              "      <th>payment_type</th>\n",
              "      <th>fare_amount</th>\n",
              "      <th>extra</th>\n",
              "      <th>mta_tax</th>\n",
              "      <th>tip_amount</th>\n",
              "      <th>tolls_amount</th>\n",
              "      <th>improvement_surcharge</th>\n",
              "      <th>total_amount</th>\n",
              "      <th>congestion_surcharge</th>\n",
              "      <th>Airport_fee</th>\n",
              "    </tr>\n",
              "  </thead>\n",
              "  <tbody>\n",
              "    <tr>\n",
              "      <th>count</th>\n",
              "      <td>995.000000</td>\n",
              "      <td>995.000000</td>\n",
              "      <td>995.000000</td>\n",
              "      <td>995.000000</td>\n",
              "      <td>995.000000</td>\n",
              "      <td>995.000000</td>\n",
              "      <td>995.000000</td>\n",
              "      <td>995.000000</td>\n",
              "      <td>995.000000</td>\n",
              "      <td>995.000000</td>\n",
              "      <td>995.000000</td>\n",
              "      <td>995.000000</td>\n",
              "      <td>995.000000</td>\n",
              "      <td>995.000000</td>\n",
              "      <td>995.000000</td>\n",
              "      <td>995.000000</td>\n",
              "    </tr>\n",
              "    <tr>\n",
              "      <th>mean</th>\n",
              "      <td>1.703518</td>\n",
              "      <td>1.581910</td>\n",
              "      <td>2.890472</td>\n",
              "      <td>1.138693</td>\n",
              "      <td>165.323618</td>\n",
              "      <td>163.204020</td>\n",
              "      <td>1.228141</td>\n",
              "      <td>18.278593</td>\n",
              "      <td>1.741457</td>\n",
              "      <td>0.491960</td>\n",
              "      <td>3.483146</td>\n",
              "      <td>0.197357</td>\n",
              "      <td>0.988945</td>\n",
              "      <td>26.847538</td>\n",
              "      <td>2.326633</td>\n",
              "      <td>0.052764</td>\n",
              "    </tr>\n",
              "    <tr>\n",
              "      <th>std</th>\n",
              "      <td>0.456936</td>\n",
              "      <td>0.911625</td>\n",
              "      <td>3.125268</td>\n",
              "      <td>3.126260</td>\n",
              "      <td>67.808656</td>\n",
              "      <td>73.059288</td>\n",
              "      <td>0.486448</td>\n",
              "      <td>14.916422</td>\n",
              "      <td>1.255742</td>\n",
              "      <td>0.077276</td>\n",
              "      <td>4.195507</td>\n",
              "      <td>1.180907</td>\n",
              "      <td>0.144929</td>\n",
              "      <td>18.092018</td>\n",
              "      <td>0.673846</td>\n",
              "      <td>0.309523</td>\n",
              "    </tr>\n",
              "    <tr>\n",
              "      <th>min</th>\n",
              "      <td>1.000000</td>\n",
              "      <td>0.000000</td>\n",
              "      <td>0.000000</td>\n",
              "      <td>1.000000</td>\n",
              "      <td>4.000000</td>\n",
              "      <td>4.000000</td>\n",
              "      <td>1.000000</td>\n",
              "      <td>-47.800000</td>\n",
              "      <td>-1.000000</td>\n",
              "      <td>-0.500000</td>\n",
              "      <td>0.000000</td>\n",
              "      <td>0.000000</td>\n",
              "      <td>-1.000000</td>\n",
              "      <td>-52.800000</td>\n",
              "      <td>-2.500000</td>\n",
              "      <td>-1.750000</td>\n",
              "    </tr>\n",
              "    <tr>\n",
              "      <th>25%</th>\n",
              "      <td>1.000000</td>\n",
              "      <td>1.000000</td>\n",
              "      <td>1.125000</td>\n",
              "      <td>1.000000</td>\n",
              "      <td>114.000000</td>\n",
              "      <td>107.000000</td>\n",
              "      <td>1.000000</td>\n",
              "      <td>9.300000</td>\n",
              "      <td>1.000000</td>\n",
              "      <td>0.500000</td>\n",
              "      <td>0.000000</td>\n",
              "      <td>0.000000</td>\n",
              "      <td>1.000000</td>\n",
              "      <td>16.320000</td>\n",
              "      <td>2.500000</td>\n",
              "      <td>0.000000</td>\n",
              "    </tr>\n",
              "    <tr>\n",
              "      <th>50%</th>\n",
              "      <td>2.000000</td>\n",
              "      <td>1.000000</td>\n",
              "      <td>1.960000</td>\n",
              "      <td>1.000000</td>\n",
              "      <td>161.000000</td>\n",
              "      <td>162.000000</td>\n",
              "      <td>1.000000</td>\n",
              "      <td>14.200000</td>\n",
              "      <td>1.000000</td>\n",
              "      <td>0.500000</td>\n",
              "      <td>3.000000</td>\n",
              "      <td>0.000000</td>\n",
              "      <td>1.000000</td>\n",
              "      <td>22.200000</td>\n",
              "      <td>2.500000</td>\n",
              "      <td>0.000000</td>\n",
              "    </tr>\n",
              "    <tr>\n",
              "      <th>75%</th>\n",
              "      <td>2.000000</td>\n",
              "      <td>2.000000</td>\n",
              "      <td>3.400000</td>\n",
              "      <td>1.000000</td>\n",
              "      <td>236.000000</td>\n",
              "      <td>236.000000</td>\n",
              "      <td>1.000000</td>\n",
              "      <td>22.600000</td>\n",
              "      <td>3.500000</td>\n",
              "      <td>0.500000</td>\n",
              "      <td>4.820000</td>\n",
              "      <td>0.000000</td>\n",
              "      <td>1.000000</td>\n",
              "      <td>31.770000</td>\n",
              "      <td>2.500000</td>\n",
              "      <td>0.000000</td>\n",
              "    </tr>\n",
              "    <tr>\n",
              "      <th>max</th>\n",
              "      <td>2.000000</td>\n",
              "      <td>6.000000</td>\n",
              "      <td>23.900000</td>\n",
              "      <td>99.000000</td>\n",
              "      <td>265.000000</td>\n",
              "      <td>265.000000</td>\n",
              "      <td>4.000000</td>\n",
              "      <td>180.000000</td>\n",
              "      <td>7.750000</td>\n",
              "      <td>0.500000</td>\n",
              "      <td>80.000000</td>\n",
              "      <td>12.750000</td>\n",
              "      <td>1.000000</td>\n",
              "      <td>217.200000</td>\n",
              "      <td>2.500000</td>\n",
              "      <td>1.750000</td>\n",
              "    </tr>\n",
              "  </tbody>\n",
              "</table>\n",
              "</div>\n",
              "    <div class=\"colab-df-buttons\">\n",
              "\n",
              "  <div class=\"colab-df-container\">\n",
              "    <button class=\"colab-df-convert\" onclick=\"convertToInteractive('df-7c55368e-820e-4841-b840-80eb39584b2a')\"\n",
              "            title=\"Convert this dataframe to an interactive table.\"\n",
              "            style=\"display:none;\">\n",
              "\n",
              "  <svg xmlns=\"http://www.w3.org/2000/svg\" height=\"24px\" viewBox=\"0 -960 960 960\">\n",
              "    <path d=\"M120-120v-720h720v720H120Zm60-500h600v-160H180v160Zm220 220h160v-160H400v160Zm0 220h160v-160H400v160ZM180-400h160v-160H180v160Zm440 0h160v-160H620v160ZM180-180h160v-160H180v160Zm440 0h160v-160H620v160Z\"/>\n",
              "  </svg>\n",
              "    </button>\n",
              "\n",
              "  <style>\n",
              "    .colab-df-container {\n",
              "      display:flex;\n",
              "      gap: 12px;\n",
              "    }\n",
              "\n",
              "    .colab-df-convert {\n",
              "      background-color: #E8F0FE;\n",
              "      border: none;\n",
              "      border-radius: 50%;\n",
              "      cursor: pointer;\n",
              "      display: none;\n",
              "      fill: #1967D2;\n",
              "      height: 32px;\n",
              "      padding: 0 0 0 0;\n",
              "      width: 32px;\n",
              "    }\n",
              "\n",
              "    .colab-df-convert:hover {\n",
              "      background-color: #E2EBFA;\n",
              "      box-shadow: 0px 1px 2px rgba(60, 64, 67, 0.3), 0px 1px 3px 1px rgba(60, 64, 67, 0.15);\n",
              "      fill: #174EA6;\n",
              "    }\n",
              "\n",
              "    .colab-df-buttons div {\n",
              "      margin-bottom: 4px;\n",
              "    }\n",
              "\n",
              "    [theme=dark] .colab-df-convert {\n",
              "      background-color: #3B4455;\n",
              "      fill: #D2E3FC;\n",
              "    }\n",
              "\n",
              "    [theme=dark] .colab-df-convert:hover {\n",
              "      background-color: #434B5C;\n",
              "      box-shadow: 0px 1px 3px 1px rgba(0, 0, 0, 0.15);\n",
              "      filter: drop-shadow(0px 1px 2px rgba(0, 0, 0, 0.3));\n",
              "      fill: #FFFFFF;\n",
              "    }\n",
              "  </style>\n",
              "\n",
              "    <script>\n",
              "      const buttonEl =\n",
              "        document.querySelector('#df-7c55368e-820e-4841-b840-80eb39584b2a button.colab-df-convert');\n",
              "      buttonEl.style.display =\n",
              "        google.colab.kernel.accessAllowed ? 'block' : 'none';\n",
              "\n",
              "      async function convertToInteractive(key) {\n",
              "        const element = document.querySelector('#df-7c55368e-820e-4841-b840-80eb39584b2a');\n",
              "        const dataTable =\n",
              "          await google.colab.kernel.invokeFunction('convertToInteractive',\n",
              "                                                    [key], {});\n",
              "        if (!dataTable) return;\n",
              "\n",
              "        const docLinkHtml = 'Like what you see? Visit the ' +\n",
              "          '<a target=\"_blank\" href=https://colab.research.google.com/notebooks/data_table.ipynb>data table notebook</a>'\n",
              "          + ' to learn more about interactive tables.';\n",
              "        element.innerHTML = '';\n",
              "        dataTable['output_type'] = 'display_data';\n",
              "        await google.colab.output.renderOutput(dataTable, element);\n",
              "        const docLink = document.createElement('div');\n",
              "        docLink.innerHTML = docLinkHtml;\n",
              "        element.appendChild(docLink);\n",
              "      }\n",
              "    </script>\n",
              "  </div>\n",
              "\n",
              "\n",
              "    <div id=\"df-aca035f3-61f2-4b91-8762-36259544d60f\">\n",
              "      <button class=\"colab-df-quickchart\" onclick=\"quickchart('df-aca035f3-61f2-4b91-8762-36259544d60f')\"\n",
              "                title=\"Suggest charts\"\n",
              "                style=\"display:none;\">\n",
              "\n",
              "<svg xmlns=\"http://www.w3.org/2000/svg\" height=\"24px\"viewBox=\"0 0 24 24\"\n",
              "     width=\"24px\">\n",
              "    <g>\n",
              "        <path d=\"M19 3H5c-1.1 0-2 .9-2 2v14c0 1.1.9 2 2 2h14c1.1 0 2-.9 2-2V5c0-1.1-.9-2-2-2zM9 17H7v-7h2v7zm4 0h-2V7h2v10zm4 0h-2v-4h2v4z\"/>\n",
              "    </g>\n",
              "</svg>\n",
              "      </button>\n",
              "\n",
              "<style>\n",
              "  .colab-df-quickchart {\n",
              "      --bg-color: #E8F0FE;\n",
              "      --fill-color: #1967D2;\n",
              "      --hover-bg-color: #E2EBFA;\n",
              "      --hover-fill-color: #174EA6;\n",
              "      --disabled-fill-color: #AAA;\n",
              "      --disabled-bg-color: #DDD;\n",
              "  }\n",
              "\n",
              "  [theme=dark] .colab-df-quickchart {\n",
              "      --bg-color: #3B4455;\n",
              "      --fill-color: #D2E3FC;\n",
              "      --hover-bg-color: #434B5C;\n",
              "      --hover-fill-color: #FFFFFF;\n",
              "      --disabled-bg-color: #3B4455;\n",
              "      --disabled-fill-color: #666;\n",
              "  }\n",
              "\n",
              "  .colab-df-quickchart {\n",
              "    background-color: var(--bg-color);\n",
              "    border: none;\n",
              "    border-radius: 50%;\n",
              "    cursor: pointer;\n",
              "    display: none;\n",
              "    fill: var(--fill-color);\n",
              "    height: 32px;\n",
              "    padding: 0;\n",
              "    width: 32px;\n",
              "  }\n",
              "\n",
              "  .colab-df-quickchart:hover {\n",
              "    background-color: var(--hover-bg-color);\n",
              "    box-shadow: 0 1px 2px rgba(60, 64, 67, 0.3), 0 1px 3px 1px rgba(60, 64, 67, 0.15);\n",
              "    fill: var(--button-hover-fill-color);\n",
              "  }\n",
              "\n",
              "  .colab-df-quickchart-complete:disabled,\n",
              "  .colab-df-quickchart-complete:disabled:hover {\n",
              "    background-color: var(--disabled-bg-color);\n",
              "    fill: var(--disabled-fill-color);\n",
              "    box-shadow: none;\n",
              "  }\n",
              "\n",
              "  .colab-df-spinner {\n",
              "    border: 2px solid var(--fill-color);\n",
              "    border-color: transparent;\n",
              "    border-bottom-color: var(--fill-color);\n",
              "    animation:\n",
              "      spin 1s steps(1) infinite;\n",
              "  }\n",
              "\n",
              "  @keyframes spin {\n",
              "    0% {\n",
              "      border-color: transparent;\n",
              "      border-bottom-color: var(--fill-color);\n",
              "      border-left-color: var(--fill-color);\n",
              "    }\n",
              "    20% {\n",
              "      border-color: transparent;\n",
              "      border-left-color: var(--fill-color);\n",
              "      border-top-color: var(--fill-color);\n",
              "    }\n",
              "    30% {\n",
              "      border-color: transparent;\n",
              "      border-left-color: var(--fill-color);\n",
              "      border-top-color: var(--fill-color);\n",
              "      border-right-color: var(--fill-color);\n",
              "    }\n",
              "    40% {\n",
              "      border-color: transparent;\n",
              "      border-right-color: var(--fill-color);\n",
              "      border-top-color: var(--fill-color);\n",
              "    }\n",
              "    60% {\n",
              "      border-color: transparent;\n",
              "      border-right-color: var(--fill-color);\n",
              "    }\n",
              "    80% {\n",
              "      border-color: transparent;\n",
              "      border-right-color: var(--fill-color);\n",
              "      border-bottom-color: var(--fill-color);\n",
              "    }\n",
              "    90% {\n",
              "      border-color: transparent;\n",
              "      border-bottom-color: var(--fill-color);\n",
              "    }\n",
              "  }\n",
              "</style>\n",
              "\n",
              "      <script>\n",
              "        async function quickchart(key) {\n",
              "          const quickchartButtonEl =\n",
              "            document.querySelector('#' + key + ' button');\n",
              "          quickchartButtonEl.disabled = true;  // To prevent multiple clicks.\n",
              "          quickchartButtonEl.classList.add('colab-df-spinner');\n",
              "          try {\n",
              "            const charts = await google.colab.kernel.invokeFunction(\n",
              "                'suggestCharts', [key], {});\n",
              "          } catch (error) {\n",
              "            console.error('Error during call to suggestCharts:', error);\n",
              "          }\n",
              "          quickchartButtonEl.classList.remove('colab-df-spinner');\n",
              "          quickchartButtonEl.classList.add('colab-df-quickchart-complete');\n",
              "        }\n",
              "        (() => {\n",
              "          let quickchartButtonEl =\n",
              "            document.querySelector('#df-aca035f3-61f2-4b91-8762-36259544d60f button');\n",
              "          quickchartButtonEl.style.display =\n",
              "            google.colab.kernel.accessAllowed ? 'block' : 'none';\n",
              "        })();\n",
              "      </script>\n",
              "    </div>\n",
              "\n",
              "    </div>\n",
              "  </div>\n"
            ],
            "application/vnd.google.colaboratory.intrinsic+json": {
              "type": "dataframe",
              "summary": "{\n  \"name\": \"df\",\n  \"rows\": 8,\n  \"fields\": [\n    {\n      \"column\": \"VendorID\",\n      \"properties\": {\n        \"dtype\": \"number\",\n        \"std\": 351.272923726116,\n        \"min\": 0.4569359156691264,\n        \"max\": 995.0,\n        \"num_unique_values\": 5,\n        \"samples\": [\n          1.7035175879396984,\n          2.0,\n          0.4569359156691264\n        ],\n        \"semantic_type\": \"\",\n        \"description\": \"\"\n      }\n    },\n    {\n      \"column\": \"passenger_count\",\n      \"properties\": {\n        \"dtype\": \"number\",\n        \"std\": 351.1592904014665,\n        \"min\": 0.0,\n        \"max\": 995.0,\n        \"num_unique_values\": 7,\n        \"samples\": [\n          995.0,\n          1.5819095477386935,\n          2.0\n        ],\n        \"semantic_type\": \"\",\n        \"description\": \"\"\n      }\n    },\n    {\n      \"column\": \"trip_distance\",\n      \"properties\": {\n        \"dtype\": \"number\",\n        \"std\": 350.032154339633,\n        \"min\": 0.0,\n        \"max\": 995.0,\n        \"num_unique_values\": 8,\n        \"samples\": [\n          2.8904723618090453,\n          1.96,\n          995.0\n        ],\n        \"semantic_type\": \"\",\n        \"description\": \"\"\n      }\n    },\n    {\n      \"column\": \"RatecodeID\",\n      \"properties\": {\n        \"dtype\": \"number\",\n        \"std\": 348.049168669578,\n        \"min\": 1.0,\n        \"max\": 995.0,\n        \"num_unique_values\": 5,\n        \"samples\": [\n          1.1386934673366833,\n          99.0,\n          3.1262599555001818\n        ],\n        \"semantic_type\": \"\",\n        \"description\": \"\"\n      }\n    },\n    {\n      \"column\": \"PULocationID\",\n      \"properties\": {\n        \"dtype\": \"number\",\n        \"std\": 312.303540214199,\n        \"min\": 4.0,\n        \"max\": 995.0,\n        \"num_unique_values\": 8,\n        \"samples\": [\n          165.32361809045227,\n          161.0,\n          995.0\n        ],\n        \"semantic_type\": \"\",\n        \"description\": \"\"\n      }\n    },\n    {\n      \"column\": \"DOLocationID\",\n      \"properties\": {\n        \"dtype\": \"number\",\n        \"std\": 312.3626772431362,\n        \"min\": 4.0,\n        \"max\": 995.0,\n        \"num_unique_values\": 8,\n        \"samples\": [\n          163.2040201005025,\n          162.0,\n          995.0\n        ],\n        \"semantic_type\": \"\",\n        \"description\": \"\"\n      }\n    },\n    {\n      \"column\": \"payment_type\",\n      \"properties\": {\n        \"dtype\": \"number\",\n        \"std\": 351.2966429258817,\n        \"min\": 0.4864482001302587,\n        \"max\": 995.0,\n        \"num_unique_values\": 5,\n        \"samples\": [\n          1.228140703517588,\n          4.0,\n          0.4864482001302587\n        ],\n        \"semantic_type\": \"\",\n        \"description\": \"\"\n      }\n    },\n    {\n      \"column\": \"fare_amount\",\n      \"properties\": {\n        \"dtype\": \"number\",\n        \"std\": 347.2569157808732,\n        \"min\": -47.8,\n        \"max\": 995.0,\n        \"num_unique_values\": 8,\n        \"samples\": [\n          18.27859296482412,\n          14.2,\n          995.0\n        ],\n        \"semantic_type\": \"\",\n        \"description\": \"\"\n      }\n    },\n    {\n      \"column\": \"extra\",\n      \"properties\": {\n        \"dtype\": \"number\",\n        \"std\": 351.0250289262352,\n        \"min\": -1.0,\n        \"max\": 995.0,\n        \"num_unique_values\": 7,\n        \"samples\": [\n          995.0,\n          1.741457286432161,\n          3.5\n        ],\n        \"semantic_type\": \"\",\n        \"description\": \"\"\n      }\n    },\n    {\n      \"column\": \"mta_tax\",\n      \"properties\": {\n        \"dtype\": \"number\",\n        \"std\": 351.681291490538,\n        \"min\": -0.5,\n        \"max\": 995.0,\n        \"num_unique_values\": 5,\n        \"samples\": [\n          0.4919597989949749,\n          0.5,\n          0.07727552935165967\n        ],\n        \"semantic_type\": \"\",\n        \"description\": \"\"\n      }\n    },\n    {\n      \"column\": \"tip_amount\",\n      \"properties\": {\n        \"dtype\": \"number\",\n        \"std\": 348.0226907698196,\n        \"min\": 0.0,\n        \"max\": 995.0,\n        \"num_unique_values\": 7,\n        \"samples\": [\n          995.0,\n          3.4831457286432164,\n          4.82\n        ],\n        \"semantic_type\": \"\",\n        \"description\": \"\"\n      }\n    },\n    {\n      \"column\": \"tolls_amount\",\n      \"properties\": {\n        \"dtype\": \"number\",\n        \"std\": 351.0996021589582,\n        \"min\": 0.0,\n        \"max\": 995.0,\n        \"num_unique_values\": 5,\n        \"samples\": [\n          0.197356783919598,\n          12.75,\n          1.1809067673191969\n        ],\n        \"semantic_type\": \"\",\n        \"description\": \"\"\n      }\n    },\n    {\n      \"column\": \"improvement_surcharge\",\n      \"properties\": {\n        \"dtype\": \"number\",\n        \"std\": 351.57755429947133,\n        \"min\": -1.0,\n        \"max\": 995.0,\n        \"num_unique_values\": 5,\n        \"samples\": [\n          0.9889447236180905,\n          1.0,\n          0.14492901183207998\n        ],\n        \"semantic_type\": \"\",\n        \"description\": \"\"\n      }\n    },\n    {\n      \"column\": \"total_amount\",\n      \"properties\": {\n        \"dtype\": \"number\",\n        \"std\": 346.3524719378282,\n        \"min\": -52.8,\n        \"max\": 995.0,\n        \"num_unique_values\": 8,\n        \"samples\": [\n          26.84753768844221,\n          22.2,\n          995.0\n        ],\n        \"semantic_type\": \"\",\n        \"description\": \"\"\n      }\n    },\n    {\n      \"column\": \"congestion_surcharge\",\n      \"properties\": {\n        \"dtype\": \"number\",\n        \"std\": 351.2596141140087,\n        \"min\": -2.5,\n        \"max\": 995.0,\n        \"num_unique_values\": 5,\n        \"samples\": [\n          2.3266331658291457,\n          2.5,\n          0.6738461492825705\n        ],\n        \"semantic_type\": \"\",\n        \"description\": \"\"\n      }\n    },\n    {\n      \"column\": \"Airport_fee\",\n      \"properties\": {\n        \"dtype\": \"number\",\n        \"std\": 351.7685853023714,\n        \"min\": -1.75,\n        \"max\": 995.0,\n        \"num_unique_values\": 6,\n        \"samples\": [\n          995.0,\n          0.052763819095477386,\n          1.75\n        ],\n        \"semantic_type\": \"\",\n        \"description\": \"\"\n      }\n    }\n  ]\n}"
            }
          },
          "metadata": {},
          "execution_count": 44
        }
      ]
    },
    {
      "cell_type": "code",
      "source": [],
      "metadata": {
        "id": "Z_6bxtvsbR2w"
      },
      "execution_count": null,
      "outputs": []
    },
    {
      "cell_type": "code",
      "metadata": {
        "id": "817ceea4"
      },
      "source": [],
      "execution_count": null,
      "outputs": []
    },
    {
      "cell_type": "code",
      "metadata": {
        "colab": {
          "base_uri": "https://localhost:8080/"
        },
        "id": "eaca82c9",
        "outputId": "8ed04f97-beca-466f-edcb-743aff6b2290"
      },
      "source": [
        "from scipy import stats\n",
        "\n",
        "# 95% Confidence Interval for Mean Trip Distance\n",
        "mean_trip_distance = df['trip_distance'].mean()\n",
        "std_trip_distance = df['trip_distance'].std()\n",
        "n_trip_distance = len(df['trip_distance'])\n",
        "confidence_interval_trip_distance = stats.norm.interval(0.95, loc=mean_trip_distance, scale=std_trip_distance/np.sqrt(n_trip_distance))\n",
        "print(f\"95% Confidence Interval for Mean Trip Distance: {confidence_interval_trip_distance}\")\n",
        "\n",
        "# 95% Confidence Interval for Mean Fare Amount\n",
        "mean_fare_amount = df['fare_amount'].mean()\n",
        "std_fare_amount = df['fare_amount'].std()\n",
        "n_fare_amount = len(df['fare_amount'])\n",
        "confidence_interval_fare_amount = stats.norm.interval(0.95, loc=mean_fare_amount, scale=std_fare_amount/np.sqrt(n_fare_amount))\n",
        "print(f\"95% Confidence Interval for Mean Fare Amount: {confidence_interval_fare_amount}\")\n",
        "\n",
        "# 95% Confidence Interval for Mean Tip Amount\n",
        "mean_tip_amount = df['tip_amount'].mean()\n",
        "std_tip_amount = df['tip_amount'].std()\n",
        "n_tip_amount = len(df['tip_amount'])\n",
        "confidence_interval_tip_amount = stats.norm.interval(0.95, loc=mean_tip_amount, scale=std_tip_amount/np.sqrt(n_tip_amount))\n",
        "print(f\"95% Confidence Interval for Mean Tip Amount: {confidence_interval_tip_amount}\")"
      ],
      "execution_count": null,
      "outputs": [
        {
          "output_type": "stream",
          "name": "stdout",
          "text": [
            "95% Confidence Interval for Mean Trip Distance: (np.float64(2.696283735685443), np.float64(3.0846609879326476))\n",
            "95% Confidence Interval for Mean Fare Amount: (np.float64(17.351760540777285), np.float64(19.205425388870957))\n",
            "95% Confidence Interval for Mean Tip Amount: (np.float64(3.22245775279109), np.float64(3.743833704495343))\n"
          ]
        }
      ]
    },
    {
      "cell_type": "code",
      "metadata": {
        "colab": {
          "base_uri": "https://localhost:8080/"
        },
        "id": "9de98485",
        "outputId": "b0e47fa6-e255-4e9e-b8a3-71a07b20c0e6"
      },
      "source": [
        "from scipy import stats\n",
        "\n",
        "# One-sample t-test for Tip Amount\n",
        "# H0: The average tip amount is equal to $2\n",
        "# H1: The average tip amount is different from $2\n",
        "t_statistic, p_value = stats.ttest_1samp(df['tip_amount'], 2)\n",
        "print(f\"One-sample t-test for Tip Amount:\")\n",
        "print(f\"T-statistic: {t_statistic}\")\n",
        "print(f\"P-value: {p_value}\")\n",
        "\n",
        "# Interpretation of the one-sample t-test\n",
        "alpha = 0.05\n",
        "if p_value < alpha:\n",
        "    print(\"Reject the null hypothesis: The average tip amount is significantly different from $2.\")\n",
        "else:\n",
        "    print(\"Fail to reject the null hypothesis: There is not enough evidence to say the average tip amount is different from $2.\")\n",
        "\n",
        "print(\"-\" * 30)"
      ],
      "execution_count": null,
      "outputs": [
        {
          "output_type": "stream",
          "name": "stdout",
          "text": [
            "One-sample t-test for Tip Amount:\n",
            "T-statistic: 11.150925555592355\n",
            "P-value: 2.7284426078462357e-27\n",
            "Reject the null hypothesis: The average tip amount is significantly different from $2.\n",
            "------------------------------\n"
          ]
        }
      ]
    },
    {
      "cell_type": "code",
      "metadata": {
        "colab": {
          "base_uri": "https://localhost:8080/"
        },
        "id": "ab81f4b6",
        "outputId": "4b73b13a-1522-4db0-b7ff-c9cb87a1524c"
      },
      "source": [
        "# Two-sample t-test: Compare average fare_amount between Payment_type 1 and 2\n",
        "fare_type_1 = df[df['payment_type'] == 1]['fare_amount']\n",
        "fare_type_2 = df[df['payment_type'] == 2]['fare_amount']\n",
        "\n",
        "t_statistic_2sample, p_value_2sample = stats.ttest_ind(fare_type_1, fare_type_2)\n",
        "\n",
        "print(f\"Two-sample t-test for Fare Amount between Payment Type 1 and 2:\")\n",
        "print(f\"T-statistic: {t_statistic_2sample}\")\n",
        "print(f\"P-value: {p_value_2sample}\")\n",
        "\n",
        "# Interpretation of the two-sample t-test\n",
        "alpha = 0.05\n",
        "if p_value_2sample < alpha:\n",
        "    print(\"Reject the null hypothesis: The average fare amount is significantly different between Payment Type 1 and 2.\")\n",
        "else:\n",
        "    print(\"Fail to reject the null hypothesis: There is not enough evidence to say the average fare amount is different between Payment Type 1 and 2.\")\n",
        "\n",
        "print(\"-\" * 30)"
      ],
      "execution_count": null,
      "outputs": [
        {
          "output_type": "stream",
          "name": "stdout",
          "text": [
            "Two-sample t-test for Fare Amount between Payment Type 1 and 2:\n",
            "T-statistic: 0.2617797303078717\n",
            "P-value: 0.7935461086827116\n",
            "Fail to reject the null hypothesis: There is not enough evidence to say the average fare amount is different between Payment Type 1 and 2.\n",
            "------------------------------\n"
          ]
        }
      ]
    },
    {
      "cell_type": "code",
      "metadata": {
        "colab": {
          "base_uri": "https://localhost:8080/"
        },
        "id": "04c9991c",
        "outputId": "c067684b-4604-4e45-9801-c99760ba4e96"
      },
      "source": [
        "# Chi-square Test of Independence: Test if Payment_type and RateCodeID are independent.\n",
        "contingency_table = pd.crosstab(df['payment_type'], df['RatecodeID'])\n",
        "chi2_statistic, p_value_chi2, dof, expected = stats.chi2_contingency(contingency_table)\n",
        "\n",
        "print(f\"Chi-square Test of Independence between Payment_type and RateCodeID:\")\n",
        "print(f\"Chi-square Statistic: {chi2_statistic}\")\n",
        "print(f\"P-value: {p_value_chi2}\")\n",
        "\n",
        "# Interpretation of the Chi-square test\n",
        "alpha = 0.05\n",
        "if p_value_chi2 < alpha:\n",
        "    print(\"Reject the null hypothesis: Payment_type and RateCodeID are dependent.\")\n",
        "else:\n",
        "    print(\"Fail to reject the null hypothesis: There is not enough evidence to say Payment_type and RateCodeID are dependent.\")\n",
        "\n",
        "print(\"-\" * 30)"
      ],
      "execution_count": null,
      "outputs": [
        {
          "output_type": "stream",
          "name": "stdout",
          "text": [
            "Chi-square Test of Independence between Payment_type and RateCodeID:\n",
            "Chi-square Statistic: 6.8534559719244\n",
            "P-value: 0.5525232153774795\n",
            "Fail to reject the null hypothesis: There is not enough evidence to say Payment_type and RateCodeID are dependent.\n",
            "------------------------------\n"
          ]
        }
      ]
    },
    {
      "cell_type": "code",
      "metadata": {
        "colab": {
          "base_uri": "https://localhost:8080/",
          "height": 632
        },
        "id": "cd3893a3",
        "outputId": "1c373c9e-63aa-4b93-ff76-261c897d1c74"
      },
      "source": [
        "# Correlation Analysis\n",
        "# • Trip_distance vs Fare_amount\n",
        "# • Fare_amount vs Tip_amount\n",
        "\n",
        "# Pearson correlation\n",
        "pearson_corr_trip_fare = df['trip_distance'].corr(df['fare_amount'], method='pearson')\n",
        "pearson_corr_fare_tip = df['fare_amount'].corr(df['tip_amount'], method='pearson')\n",
        "\n",
        "print(f\"Pearson correlation between Trip_distance and Fare_amount: {pearson_corr_trip_fare}\")\n",
        "print(f\"Pearson correlation between Fare_amount and Tip_amount: {pearson_corr_fare_tip}\")\n",
        "\n",
        "\n",
        "\n",
        "# Create a correlation matrix heatmap\n",
        "correlation_matrix = df[['trip_distance', 'fare_amount', 'tip_amount']].corr(method='pearson')\n",
        "\n",
        "plt.figure(figsize=(8, 6))\n",
        "sns.heatmap(correlation_matrix, annot=True, cmap='coolwarm', fmt=\".2f\")\n",
        "plt.title('Correlation Matrix Heatmap')\n",
        "plt.show()"
      ],
      "execution_count": null,
      "outputs": [
        {
          "output_type": "stream",
          "name": "stdout",
          "text": [
            "Pearson correlation between Trip_distance and Fare_amount: 0.8016584022736732\n",
            "Pearson correlation between Fare_amount and Tip_amount: 0.493059691968126\n",
            "Spearman correlation between Trip_distance and Fare_amount: 0.8731192897189957\n",
            "Spearman correlation between Fare_amount and Tip_amount: 0.41646787202006913\n",
            "------------------------------\n"
          ]
        },
        {
          "output_type": "display_data",
          "data": {
            "text/plain": [
              "<Figure size 800x600 with 2 Axes>"
            ],
            "image/png": "[encoded data removed]"
          },
          "metadata": {}
        }
      ]
    }
  ]
}